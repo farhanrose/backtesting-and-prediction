{
 "cells": [
  {
   "cell_type": "code",
   "execution_count": 6,
   "id": "ead5ee52-c859-4d1c-8246-bf0423f1aa61",
   "metadata": {},
   "outputs": [
    {
     "name": "stdout",
     "output_type": "stream",
     "text": [
      "Requirement already satisfied: yfinance in d:\\program files\\lib\\site-packages (0.2.63)\n",
      "Requirement already satisfied: pandas>=1.3.0 in d:\\program files\\lib\\site-packages (from yfinance) (2.2.3)\n",
      "Requirement already satisfied: numpy>=1.16.5 in d:\\program files\\lib\\site-packages (from yfinance) (2.1.3)\n",
      "Requirement already satisfied: requests>=2.31 in d:\\program files\\lib\\site-packages (from yfinance) (2.32.3)\n",
      "Requirement already satisfied: multitasking>=0.0.7 in d:\\program files\\lib\\site-packages (from yfinance) (0.0.11)\n",
      "Requirement already satisfied: platformdirs>=2.0.0 in d:\\program files\\lib\\site-packages (from yfinance) (4.3.7)\n",
      "Requirement already satisfied: pytz>=2022.5 in d:\\program files\\lib\\site-packages (from yfinance) (2024.1)\n",
      "Requirement already satisfied: frozendict>=2.3.4 in d:\\program files\\lib\\site-packages (from yfinance) (2.4.2)\n",
      "Requirement already satisfied: peewee>=3.16.2 in d:\\program files\\lib\\site-packages (from yfinance) (3.18.1)\n",
      "Requirement already satisfied: beautifulsoup4>=4.11.1 in d:\\program files\\lib\\site-packages (from yfinance) (4.12.3)\n",
      "Requirement already satisfied: curl_cffi>=0.7 in d:\\program files\\lib\\site-packages (from yfinance) (0.11.4)\n",
      "Requirement already satisfied: protobuf>=3.19.0 in d:\\program files\\lib\\site-packages (from yfinance) (5.29.3)\n",
      "Requirement already satisfied: websockets>=13.0 in d:\\program files\\lib\\site-packages (from yfinance) (15.0.1)\n",
      "Requirement already satisfied: soupsieve>1.2 in d:\\program files\\lib\\site-packages (from beautifulsoup4>=4.11.1->yfinance) (2.5)\n",
      "Requirement already satisfied: cffi>=1.12.0 in d:\\program files\\lib\\site-packages (from curl_cffi>=0.7->yfinance) (1.17.1)\n",
      "Requirement already satisfied: certifi>=2024.2.2 in d:\\program files\\lib\\site-packages (from curl_cffi>=0.7->yfinance) (2025.4.26)\n",
      "Requirement already satisfied: pycparser in d:\\program files\\lib\\site-packages (from cffi>=1.12.0->curl_cffi>=0.7->yfinance) (2.21)\n",
      "Requirement already satisfied: python-dateutil>=2.8.2 in d:\\program files\\lib\\site-packages (from pandas>=1.3.0->yfinance) (2.9.0.post0)\n",
      "Requirement already satisfied: tzdata>=2022.7 in d:\\program files\\lib\\site-packages (from pandas>=1.3.0->yfinance) (2025.2)\n",
      "Requirement already satisfied: six>=1.5 in d:\\program files\\lib\\site-packages (from python-dateutil>=2.8.2->pandas>=1.3.0->yfinance) (1.17.0)\n",
      "Requirement already satisfied: charset-normalizer<4,>=2 in d:\\program files\\lib\\site-packages (from requests>=2.31->yfinance) (3.3.2)\n",
      "Requirement already satisfied: idna<4,>=2.5 in d:\\program files\\lib\\site-packages (from requests>=2.31->yfinance) (3.7)\n",
      "Requirement already satisfied: urllib3<3,>=1.21.1 in d:\\program files\\lib\\site-packages (from requests>=2.31->yfinance) (2.3.0)\n"
     ]
    }
   ],
   "source": [
    "!pip install yfinance"
   ]
  },
  {
   "cell_type": "code",
   "execution_count": 2,
   "id": "c00208ee-a87c-4112-b048-c4335f49c808",
   "metadata": {},
   "outputs": [
    {
     "name": "stdout",
     "output_type": "stream",
     "text": [
      "Collecting backtesting\n",
      "  Downloading backtesting-0.6.4-py3-none-any.whl.metadata (7.0 kB)\n",
      "Requirement already satisfied: numpy>=1.17.0 in d:\\program files\\lib\\site-packages (from backtesting) (2.1.3)\n",
      "Requirement already satisfied: pandas!=0.25.0,>=0.25.0 in d:\\program files\\lib\\site-packages (from backtesting) (2.2.3)\n",
      "Requirement already satisfied: bokeh!=3.0.*,!=3.2.*,>=1.4.0 in d:\\program files\\lib\\site-packages (from backtesting) (3.6.2)\n",
      "Requirement already satisfied: Jinja2>=2.9 in d:\\program files\\lib\\site-packages (from bokeh!=3.0.*,!=3.2.*,>=1.4.0->backtesting) (3.1.6)\n",
      "Requirement already satisfied: contourpy>=1.2 in d:\\program files\\lib\\site-packages (from bokeh!=3.0.*,!=3.2.*,>=1.4.0->backtesting) (1.3.1)\n",
      "Requirement already satisfied: packaging>=16.8 in d:\\program files\\lib\\site-packages (from bokeh!=3.0.*,!=3.2.*,>=1.4.0->backtesting) (24.2)\n",
      "Requirement already satisfied: pillow>=7.1.0 in d:\\program files\\lib\\site-packages (from bokeh!=3.0.*,!=3.2.*,>=1.4.0->backtesting) (11.1.0)\n",
      "Requirement already satisfied: PyYAML>=3.10 in d:\\program files\\lib\\site-packages (from bokeh!=3.0.*,!=3.2.*,>=1.4.0->backtesting) (6.0.2)\n",
      "Requirement already satisfied: tornado>=6.2 in d:\\program files\\lib\\site-packages (from bokeh!=3.0.*,!=3.2.*,>=1.4.0->backtesting) (6.5.1)\n",
      "Requirement already satisfied: xyzservices>=2021.09.1 in d:\\program files\\lib\\site-packages (from bokeh!=3.0.*,!=3.2.*,>=1.4.0->backtesting) (2022.9.0)\n",
      "Requirement already satisfied: MarkupSafe>=2.0 in d:\\program files\\lib\\site-packages (from Jinja2>=2.9->bokeh!=3.0.*,!=3.2.*,>=1.4.0->backtesting) (3.0.2)\n",
      "Requirement already satisfied: python-dateutil>=2.8.2 in d:\\program files\\lib\\site-packages (from pandas!=0.25.0,>=0.25.0->backtesting) (2.9.0.post0)\n",
      "Requirement already satisfied: pytz>=2020.1 in d:\\program files\\lib\\site-packages (from pandas!=0.25.0,>=0.25.0->backtesting) (2024.1)\n",
      "Requirement already satisfied: tzdata>=2022.7 in d:\\program files\\lib\\site-packages (from pandas!=0.25.0,>=0.25.0->backtesting) (2025.2)\n",
      "Requirement already satisfied: six>=1.5 in d:\\program files\\lib\\site-packages (from python-dateutil>=2.8.2->pandas!=0.25.0,>=0.25.0->backtesting) (1.17.0)\n",
      "Downloading backtesting-0.6.4-py3-none-any.whl (191 kB)\n",
      "Installing collected packages: backtesting\n",
      "Successfully installed backtesting-0.6.4\n"
     ]
    }
   ],
   "source": [
    "!pip install backtesting"
   ]
  },
  {
   "cell_type": "code",
   "execution_count": 4,
   "id": "35b62df3-ec84-4aa1-9d07-f5c8d59cdda4",
   "metadata": {},
   "outputs": [
    {
     "name": "stdout",
     "output_type": "stream",
     "text": [
      "Requirement already satisfied: ta in d:\\program files\\lib\\site-packages (0.11.0)Note: you may need to restart the kernel to use updated packages.\n",
      "\n",
      "Requirement already satisfied: numpy in d:\\program files\\lib\\site-packages (from ta) (2.1.3)\n",
      "Requirement already satisfied: pandas in d:\\program files\\lib\\site-packages (from ta) (2.2.3)\n",
      "Requirement already satisfied: python-dateutil>=2.8.2 in d:\\program files\\lib\\site-packages (from pandas->ta) (2.9.0.post0)\n",
      "Requirement already satisfied: pytz>=2020.1 in d:\\program files\\lib\\site-packages (from pandas->ta) (2024.1)\n",
      "Requirement already satisfied: tzdata>=2022.7 in d:\\program files\\lib\\site-packages (from pandas->ta) (2025.2)\n",
      "Requirement already satisfied: six>=1.5 in d:\\program files\\lib\\site-packages (from python-dateutil>=2.8.2->pandas->ta) (1.17.0)\n"
     ]
    }
   ],
   "source": [
    "pip install --use-pep517 ta"
   ]
  },
  {
   "cell_type": "code",
   "execution_count": 5,
   "id": "12b136ae-4f02-4dab-956d-5da4bfca422c",
   "metadata": {},
   "outputs": [
    {
     "name": "stderr",
     "output_type": "stream",
     "text": [
      "D:\\Program Files\\Lib\\site-packages\\backtesting\\_plotting.py:55: UserWarning: Jupyter Notebook detected. Setting Bokeh output to notebook. This may not work in Jupyter clients without JavaScript support, such as old IDEs. Reset with `backtesting.set_bokeh_output(notebook=False)`.\n",
      "  warnings.warn('Jupyter Notebook detected. '\n"
     ]
    },
    {
     "data": {
      "text/html": [
       "    <style>\n",
       "        .bk-notebook-logo {\n",
       "            display: block;\n",
       "            width: 20px;\n",
       "            height: 20px;\n",
       "            background-image: url(data:image/png;base64,iVBORw0KGgoAAAANSUhEUgAAABQAAAAUCAYAAACNiR0NAAAABHNCSVQICAgIfAhkiAAAAAlwSFlzAAALEgAACxIB0t1+/AAAABx0RVh0U29mdHdhcmUAQWRvYmUgRmlyZXdvcmtzIENTNui8sowAAAOkSURBVDiNjZRtaJVlGMd/1/08zzln5zjP1LWcU9N0NkN8m2CYjpgQYQXqSs0I84OLIC0hkEKoPtiH3gmKoiJDU7QpLgoLjLIQCpEsNJ1vqUOdO7ppbuec5+V+rj4ctwzd8IIbbi6u+8f1539dt3A78eXC7QizUF7gyV1fD1Yqg4JWz84yffhm0qkFqBogB9rM8tZdtwVsPUhWhGcFJngGeWrPzHm5oaMmkfEg1usvLFyc8jLRqDOMru7AyC8saQr7GG7f5fvDeH7Ej8CM66nIF+8yngt6HWaKh7k49Soy9nXurCi1o3qUbS3zWfrYeQDTB/Qj6kX6Ybhw4B+bOYoLKCC9H3Nu/leUTZ1JdRWkkn2ldcCamzrcf47KKXdAJllSlxAOkRgyHsGC/zRday5Qld9DyoM4/q/rUoy/CXh3jzOu3bHUVZeU+DEn8FInkPBFlu3+nW3Nw0mk6vCDiWg8CeJaxEwuHS3+z5RgY+YBR6V1Z1nxSOfoaPa4LASWxxdNp+VWTk7+4vzaou8v8PN+xo+KY2xsw6une2frhw05CTYOmQvsEhjhWjn0bmXPjpE1+kplmmkP3suftwTubK9Vq22qKmrBhpY4jvd5afdRA3wGjFAgcnTK2s4hY0/GPNIb0nErGMCRxWOOX64Z8RAC4oCXdklmEvcL8o0BfkNK4lUg9HTl+oPlQxdNo3Mg4Nv175e/1LDGzZen30MEjRUtmXSfiTVu1kK8W4txyV6BMKlbgk3lMwYCiusNy9fVfvvwMxv8Ynl6vxoByANLTWplvuj/nF9m2+PDtt1eiHPBr1oIfhCChQMBw6Aw0UulqTKZdfVvfG7VcfIqLG9bcldL/+pdWTLxLUy8Qq38heUIjh4XlzZxzQm19lLFlr8vdQ97rjZVOLf8nclzckbcD4wxXMidpX30sFd37Fv/GtwwhzhxGVAprjbg0gCAEeIgwCZyTV2Z1REEW8O4py0wsjeloKoMr6iCY6dP92H6Vw/oTyICIthibxjm/DfN9lVz8IqtqKYLUXfoKVMVQVVJOElGjrnnUt9T9wbgp8AyYKaGlqingHZU/uG2NTZSVqwHQTWkx9hxjkpWDaCg6Ckj5qebgBVbT3V3NNXMSiWSDdGV3hrtzla7J+duwPOToIg42ChPQOQjspnSlp1V+Gjdged7+8UN5CRAV7a5EdFNwCjEaBR27b3W890TE7g24NAP/mMDXRWrGoFPQI9ls/MWO2dWFAar/xcOIImbbpA3zgAAAABJRU5ErkJggg==);\n",
       "        }\n",
       "    </style>\n",
       "    <div>\n",
       "        <a href=\"https://bokeh.org\" target=\"_blank\" class=\"bk-notebook-logo\"></a>\n",
       "        <span id=\"c8bdf519-b021-4ecf-9393-5388586835d9\">Loading BokehJS ...</span>\n",
       "    </div>\n"
      ]
     },
     "metadata": {},
     "output_type": "display_data"
    },
    {
     "data": {
      "application/javascript": [
       "'use strict';\n",
       "(function(root) {\n",
       "  function now() {\n",
       "    return new Date();\n",
       "  }\n",
       "\n",
       "  const force = true;\n",
       "\n",
       "  if (typeof root._bokeh_onload_callbacks === \"undefined\" || force === true) {\n",
       "    root._bokeh_onload_callbacks = [];\n",
       "    root._bokeh_is_loading = undefined;\n",
       "  }\n",
       "\n",
       "const JS_MIME_TYPE = 'application/javascript';\n",
       "  const HTML_MIME_TYPE = 'text/html';\n",
       "  const EXEC_MIME_TYPE = 'application/vnd.bokehjs_exec.v0+json';\n",
       "  const CLASS_NAME = 'output_bokeh rendered_html';\n",
       "\n",
       "  /**\n",
       "   * Render data to the DOM node\n",
       "   */\n",
       "  function render(props, node) {\n",
       "    const script = document.createElement(\"script\");\n",
       "    node.appendChild(script);\n",
       "  }\n",
       "\n",
       "  /**\n",
       "   * Handle when an output is cleared or removed\n",
       "   */\n",
       "  function handleClearOutput(event, handle) {\n",
       "    function drop(id) {\n",
       "      const view = Bokeh.index.get_by_id(id)\n",
       "      if (view != null) {\n",
       "        view.model.document.clear()\n",
       "        Bokeh.index.delete(view)\n",
       "      }\n",
       "    }\n",
       "\n",
       "    const cell = handle.cell;\n",
       "\n",
       "    const id = cell.output_area._bokeh_element_id;\n",
       "    const server_id = cell.output_area._bokeh_server_id;\n",
       "\n",
       "    // Clean up Bokeh references\n",
       "    if (id != null) {\n",
       "      drop(id)\n",
       "    }\n",
       "\n",
       "    if (server_id !== undefined) {\n",
       "      // Clean up Bokeh references\n",
       "      const cmd_clean = \"from bokeh.io.state import curstate; print(curstate().uuid_to_server['\" + server_id + \"'].get_sessions()[0].document.roots[0]._id)\";\n",
       "      cell.notebook.kernel.execute(cmd_clean, {\n",
       "        iopub: {\n",
       "          output: function(msg) {\n",
       "            const id = msg.content.text.trim()\n",
       "            drop(id)\n",
       "          }\n",
       "        }\n",
       "      });\n",
       "      // Destroy server and session\n",
       "      const cmd_destroy = \"import bokeh.io.notebook as ion; ion.destroy_server('\" + server_id + \"')\";\n",
       "      cell.notebook.kernel.execute(cmd_destroy);\n",
       "    }\n",
       "  }\n",
       "\n",
       "  /**\n",
       "   * Handle when a new output is added\n",
       "   */\n",
       "  function handleAddOutput(event, handle) {\n",
       "    const output_area = handle.output_area;\n",
       "    const output = handle.output;\n",
       "\n",
       "    // limit handleAddOutput to display_data with EXEC_MIME_TYPE content only\n",
       "    if ((output.output_type != \"display_data\") || (!Object.prototype.hasOwnProperty.call(output.data, EXEC_MIME_TYPE))) {\n",
       "      return\n",
       "    }\n",
       "\n",
       "    const toinsert = output_area.element.find(\".\" + CLASS_NAME.split(' ')[0]);\n",
       "\n",
       "    if (output.metadata[EXEC_MIME_TYPE][\"id\"] !== undefined) {\n",
       "      toinsert[toinsert.length - 1].firstChild.textContent = output.data[JS_MIME_TYPE];\n",
       "      // store reference to embed id on output_area\n",
       "      output_area._bokeh_element_id = output.metadata[EXEC_MIME_TYPE][\"id\"];\n",
       "    }\n",
       "    if (output.metadata[EXEC_MIME_TYPE][\"server_id\"] !== undefined) {\n",
       "      const bk_div = document.createElement(\"div\");\n",
       "      bk_div.innerHTML = output.data[HTML_MIME_TYPE];\n",
       "      const script_attrs = bk_div.children[0].attributes;\n",
       "      for (let i = 0; i < script_attrs.length; i++) {\n",
       "        toinsert[toinsert.length - 1].firstChild.setAttribute(script_attrs[i].name, script_attrs[i].value);\n",
       "        toinsert[toinsert.length - 1].firstChild.textContent = bk_div.children[0].textContent\n",
       "      }\n",
       "      // store reference to server id on output_area\n",
       "      output_area._bokeh_server_id = output.metadata[EXEC_MIME_TYPE][\"server_id\"];\n",
       "    }\n",
       "  }\n",
       "\n",
       "  function register_renderer(events, OutputArea) {\n",
       "\n",
       "    function append_mime(data, metadata, element) {\n",
       "      // create a DOM node to render to\n",
       "      const toinsert = this.create_output_subarea(\n",
       "        metadata,\n",
       "        CLASS_NAME,\n",
       "        EXEC_MIME_TYPE\n",
       "      );\n",
       "      this.keyboard_manager.register_events(toinsert);\n",
       "      // Render to node\n",
       "      const props = {data: data, metadata: metadata[EXEC_MIME_TYPE]};\n",
       "      render(props, toinsert[toinsert.length - 1]);\n",
       "      element.append(toinsert);\n",
       "      return toinsert\n",
       "    }\n",
       "\n",
       "    /* Handle when an output is cleared or removed */\n",
       "    events.on('clear_output.CodeCell', handleClearOutput);\n",
       "    events.on('delete.Cell', handleClearOutput);\n",
       "\n",
       "    /* Handle when a new output is added */\n",
       "    events.on('output_added.OutputArea', handleAddOutput);\n",
       "\n",
       "    /**\n",
       "     * Register the mime type and append_mime function with output_area\n",
       "     */\n",
       "    OutputArea.prototype.register_mime_type(EXEC_MIME_TYPE, append_mime, {\n",
       "      /* Is output safe? */\n",
       "      safe: true,\n",
       "      /* Index of renderer in `output_area.display_order` */\n",
       "      index: 0\n",
       "    });\n",
       "  }\n",
       "\n",
       "  // register the mime type if in Jupyter Notebook environment and previously unregistered\n",
       "  if (root.Jupyter !== undefined) {\n",
       "    const events = require('base/js/events');\n",
       "    const OutputArea = require('notebook/js/outputarea').OutputArea;\n",
       "\n",
       "    if (OutputArea.prototype.mime_types().indexOf(EXEC_MIME_TYPE) == -1) {\n",
       "      register_renderer(events, OutputArea);\n",
       "    }\n",
       "  }\n",
       "  if (typeof (root._bokeh_timeout) === \"undefined\" || force === true) {\n",
       "    root._bokeh_timeout = Date.now() + 5000;\n",
       "    root._bokeh_failed_load = false;\n",
       "  }\n",
       "\n",
       "  const NB_LOAD_WARNING = {'data': {'text/html':\n",
       "     \"<div style='background-color: #fdd'>\\n\"+\n",
       "     \"<p>\\n\"+\n",
       "     \"BokehJS does not appear to have successfully loaded. If loading BokehJS from CDN, this \\n\"+\n",
       "     \"may be due to a slow or bad network connection. Possible fixes:\\n\"+\n",
       "     \"</p>\\n\"+\n",
       "     \"<ul>\\n\"+\n",
       "     \"<li>re-rerun `output_notebook()` to attempt to load from CDN again, or</li>\\n\"+\n",
       "     \"<li>use INLINE resources instead, as so:</li>\\n\"+\n",
       "     \"</ul>\\n\"+\n",
       "     \"<code>\\n\"+\n",
       "     \"from bokeh.resources import INLINE\\n\"+\n",
       "     \"output_notebook(resources=INLINE)\\n\"+\n",
       "     \"</code>\\n\"+\n",
       "     \"</div>\"}};\n",
       "\n",
       "  function display_loaded(error = null) {\n",
       "    const el = document.getElementById(\"c8bdf519-b021-4ecf-9393-5388586835d9\");\n",
       "    if (el != null) {\n",
       "      const html = (() => {\n",
       "        if (typeof root.Bokeh === \"undefined\") {\n",
       "          if (error == null) {\n",
       "            return \"BokehJS is loading ...\";\n",
       "          } else {\n",
       "            return \"BokehJS failed to load.\";\n",
       "          }\n",
       "        } else {\n",
       "          const prefix = `BokehJS ${root.Bokeh.version}`;\n",
       "          if (error == null) {\n",
       "            return `${prefix} successfully loaded.`;\n",
       "          } else {\n",
       "            return `${prefix} <b>encountered errors</b> while loading and may not function as expected.`;\n",
       "          }\n",
       "        }\n",
       "      })();\n",
       "      el.innerHTML = html;\n",
       "\n",
       "      if (error != null) {\n",
       "        const wrapper = document.createElement(\"div\");\n",
       "        wrapper.style.overflow = \"auto\";\n",
       "        wrapper.style.height = \"5em\";\n",
       "        wrapper.style.resize = \"vertical\";\n",
       "        const content = document.createElement(\"div\");\n",
       "        content.style.fontFamily = \"monospace\";\n",
       "        content.style.whiteSpace = \"pre-wrap\";\n",
       "        content.style.backgroundColor = \"rgb(255, 221, 221)\";\n",
       "        content.textContent = error.stack ?? error.toString();\n",
       "        wrapper.append(content);\n",
       "        el.append(wrapper);\n",
       "      }\n",
       "    } else if (Date.now() < root._bokeh_timeout) {\n",
       "      setTimeout(() => display_loaded(error), 100);\n",
       "    }\n",
       "  }\n",
       "\n",
       "  function run_callbacks() {\n",
       "    try {\n",
       "      root._bokeh_onload_callbacks.forEach(function(callback) {\n",
       "        if (callback != null)\n",
       "          callback();\n",
       "      });\n",
       "    } finally {\n",
       "      delete root._bokeh_onload_callbacks\n",
       "    }\n",
       "    console.debug(\"Bokeh: all callbacks have finished\");\n",
       "  }\n",
       "\n",
       "  function load_libs(css_urls, js_urls, callback) {\n",
       "    if (css_urls == null) css_urls = [];\n",
       "    if (js_urls == null) js_urls = [];\n",
       "\n",
       "    root._bokeh_onload_callbacks.push(callback);\n",
       "    if (root._bokeh_is_loading > 0) {\n",
       "      console.debug(\"Bokeh: BokehJS is being loaded, scheduling callback at\", now());\n",
       "      return null;\n",
       "    }\n",
       "    if (js_urls == null || js_urls.length === 0) {\n",
       "      run_callbacks();\n",
       "      return null;\n",
       "    }\n",
       "    console.debug(\"Bokeh: BokehJS not loaded, scheduling load and callback at\", now());\n",
       "    root._bokeh_is_loading = css_urls.length + js_urls.length;\n",
       "\n",
       "    function on_load() {\n",
       "      root._bokeh_is_loading--;\n",
       "      if (root._bokeh_is_loading === 0) {\n",
       "        console.debug(\"Bokeh: all BokehJS libraries/stylesheets loaded\");\n",
       "        run_callbacks()\n",
       "      }\n",
       "    }\n",
       "\n",
       "    function on_error(url) {\n",
       "      console.error(\"failed to load \" + url);\n",
       "    }\n",
       "\n",
       "    for (let i = 0; i < css_urls.length; i++) {\n",
       "      const url = css_urls[i];\n",
       "      const element = document.createElement(\"link\");\n",
       "      element.onload = on_load;\n",
       "      element.onerror = on_error.bind(null, url);\n",
       "      element.rel = \"stylesheet\";\n",
       "      element.type = \"text/css\";\n",
       "      element.href = url;\n",
       "      console.debug(\"Bokeh: injecting link tag for BokehJS stylesheet: \", url);\n",
       "      document.body.appendChild(element);\n",
       "    }\n",
       "\n",
       "    for (let i = 0; i < js_urls.length; i++) {\n",
       "      const url = js_urls[i];\n",
       "      const element = document.createElement('script');\n",
       "      element.onload = on_load;\n",
       "      element.onerror = on_error.bind(null, url);\n",
       "      element.async = false;\n",
       "      element.src = url;\n",
       "      console.debug(\"Bokeh: injecting script tag for BokehJS library: \", url);\n",
       "      document.head.appendChild(element);\n",
       "    }\n",
       "  };\n",
       "\n",
       "  function inject_raw_css(css) {\n",
       "    const element = document.createElement(\"style\");\n",
       "    element.appendChild(document.createTextNode(css));\n",
       "    document.body.appendChild(element);\n",
       "  }\n",
       "\n",
       "  const js_urls = [\"https://cdn.bokeh.org/bokeh/release/bokeh-3.6.2.min.js\", \"https://cdn.bokeh.org/bokeh/release/bokeh-gl-3.6.2.min.js\", \"https://cdn.bokeh.org/bokeh/release/bokeh-widgets-3.6.2.min.js\", \"https://cdn.bokeh.org/bokeh/release/bokeh-tables-3.6.2.min.js\", \"https://cdn.bokeh.org/bokeh/release/bokeh-mathjax-3.6.2.min.js\"];\n",
       "  const css_urls = [];\n",
       "\n",
       "  const inline_js = [    function(Bokeh) {\n",
       "      Bokeh.set_log_level(\"info\");\n",
       "    },\n",
       "function(Bokeh) {\n",
       "    }\n",
       "  ];\n",
       "\n",
       "  function run_inline_js() {\n",
       "    if (root.Bokeh !== undefined || force === true) {\n",
       "      try {\n",
       "            for (let i = 0; i < inline_js.length; i++) {\n",
       "      inline_js[i].call(root, root.Bokeh);\n",
       "    }\n",
       "\n",
       "      } catch (error) {display_loaded(error);throw error;\n",
       "      }if (force === true) {\n",
       "        display_loaded();\n",
       "      }} else if (Date.now() < root._bokeh_timeout) {\n",
       "      setTimeout(run_inline_js, 100);\n",
       "    } else if (!root._bokeh_failed_load) {\n",
       "      console.log(\"Bokeh: BokehJS failed to load within specified timeout.\");\n",
       "      root._bokeh_failed_load = true;\n",
       "    } else if (force !== true) {\n",
       "      const cell = $(document.getElementById(\"c8bdf519-b021-4ecf-9393-5388586835d9\")).parents('.cell').data().cell;\n",
       "      cell.output_area.append_execute_result(NB_LOAD_WARNING)\n",
       "    }\n",
       "  }\n",
       "\n",
       "  if (root._bokeh_is_loading === 0) {\n",
       "    console.debug(\"Bokeh: BokehJS loaded, going straight to plotting\");\n",
       "    run_inline_js();\n",
       "  } else {\n",
       "    load_libs(css_urls, js_urls, function() {\n",
       "      console.debug(\"Bokeh: BokehJS plotting callback run at\", now());\n",
       "      run_inline_js();\n",
       "    });\n",
       "  }\n",
       "}(window));"
      ],
      "application/vnd.bokehjs_load.v0+json": "'use strict';\n(function(root) {\n  function now() {\n    return new Date();\n  }\n\n  const force = true;\n\n  if (typeof root._bokeh_onload_callbacks === \"undefined\" || force === true) {\n    root._bokeh_onload_callbacks = [];\n    root._bokeh_is_loading = undefined;\n  }\n\n\n  if (typeof (root._bokeh_timeout) === \"undefined\" || force === true) {\n    root._bokeh_timeout = Date.now() + 5000;\n    root._bokeh_failed_load = false;\n  }\n\n  const NB_LOAD_WARNING = {'data': {'text/html':\n     \"<div style='background-color: #fdd'>\\n\"+\n     \"<p>\\n\"+\n     \"BokehJS does not appear to have successfully loaded. If loading BokehJS from CDN, this \\n\"+\n     \"may be due to a slow or bad network connection. Possible fixes:\\n\"+\n     \"</p>\\n\"+\n     \"<ul>\\n\"+\n     \"<li>re-rerun `output_notebook()` to attempt to load from CDN again, or</li>\\n\"+\n     \"<li>use INLINE resources instead, as so:</li>\\n\"+\n     \"</ul>\\n\"+\n     \"<code>\\n\"+\n     \"from bokeh.resources import INLINE\\n\"+\n     \"output_notebook(resources=INLINE)\\n\"+\n     \"</code>\\n\"+\n     \"</div>\"}};\n\n  function display_loaded(error = null) {\n    const el = document.getElementById(\"c8bdf519-b021-4ecf-9393-5388586835d9\");\n    if (el != null) {\n      const html = (() => {\n        if (typeof root.Bokeh === \"undefined\") {\n          if (error == null) {\n            return \"BokehJS is loading ...\";\n          } else {\n            return \"BokehJS failed to load.\";\n          }\n        } else {\n          const prefix = `BokehJS ${root.Bokeh.version}`;\n          if (error == null) {\n            return `${prefix} successfully loaded.`;\n          } else {\n            return `${prefix} <b>encountered errors</b> while loading and may not function as expected.`;\n          }\n        }\n      })();\n      el.innerHTML = html;\n\n      if (error != null) {\n        const wrapper = document.createElement(\"div\");\n        wrapper.style.overflow = \"auto\";\n        wrapper.style.height = \"5em\";\n        wrapper.style.resize = \"vertical\";\n        const content = document.createElement(\"div\");\n        content.style.fontFamily = \"monospace\";\n        content.style.whiteSpace = \"pre-wrap\";\n        content.style.backgroundColor = \"rgb(255, 221, 221)\";\n        content.textContent = error.stack ?? error.toString();\n        wrapper.append(content);\n        el.append(wrapper);\n      }\n    } else if (Date.now() < root._bokeh_timeout) {\n      setTimeout(() => display_loaded(error), 100);\n    }\n  }\n\n  function run_callbacks() {\n    try {\n      root._bokeh_onload_callbacks.forEach(function(callback) {\n        if (callback != null)\n          callback();\n      });\n    } finally {\n      delete root._bokeh_onload_callbacks\n    }\n    console.debug(\"Bokeh: all callbacks have finished\");\n  }\n\n  function load_libs(css_urls, js_urls, callback) {\n    if (css_urls == null) css_urls = [];\n    if (js_urls == null) js_urls = [];\n\n    root._bokeh_onload_callbacks.push(callback);\n    if (root._bokeh_is_loading > 0) {\n      console.debug(\"Bokeh: BokehJS is being loaded, scheduling callback at\", now());\n      return null;\n    }\n    if (js_urls == null || js_urls.length === 0) {\n      run_callbacks();\n      return null;\n    }\n    console.debug(\"Bokeh: BokehJS not loaded, scheduling load and callback at\", now());\n    root._bokeh_is_loading = css_urls.length + js_urls.length;\n\n    function on_load() {\n      root._bokeh_is_loading--;\n      if (root._bokeh_is_loading === 0) {\n        console.debug(\"Bokeh: all BokehJS libraries/stylesheets loaded\");\n        run_callbacks()\n      }\n    }\n\n    function on_error(url) {\n      console.error(\"failed to load \" + url);\n    }\n\n    for (let i = 0; i < css_urls.length; i++) {\n      const url = css_urls[i];\n      const element = document.createElement(\"link\");\n      element.onload = on_load;\n      element.onerror = on_error.bind(null, url);\n      element.rel = \"stylesheet\";\n      element.type = \"text/css\";\n      element.href = url;\n      console.debug(\"Bokeh: injecting link tag for BokehJS stylesheet: \", url);\n      document.body.appendChild(element);\n    }\n\n    for (let i = 0; i < js_urls.length; i++) {\n      const url = js_urls[i];\n      const element = document.createElement('script');\n      element.onload = on_load;\n      element.onerror = on_error.bind(null, url);\n      element.async = false;\n      element.src = url;\n      console.debug(\"Bokeh: injecting script tag for BokehJS library: \", url);\n      document.head.appendChild(element);\n    }\n  };\n\n  function inject_raw_css(css) {\n    const element = document.createElement(\"style\");\n    element.appendChild(document.createTextNode(css));\n    document.body.appendChild(element);\n  }\n\n  const js_urls = [\"https://cdn.bokeh.org/bokeh/release/bokeh-3.6.2.min.js\", \"https://cdn.bokeh.org/bokeh/release/bokeh-gl-3.6.2.min.js\", \"https://cdn.bokeh.org/bokeh/release/bokeh-widgets-3.6.2.min.js\", \"https://cdn.bokeh.org/bokeh/release/bokeh-tables-3.6.2.min.js\", \"https://cdn.bokeh.org/bokeh/release/bokeh-mathjax-3.6.2.min.js\"];\n  const css_urls = [];\n\n  const inline_js = [    function(Bokeh) {\n      Bokeh.set_log_level(\"info\");\n    },\nfunction(Bokeh) {\n    }\n  ];\n\n  function run_inline_js() {\n    if (root.Bokeh !== undefined || force === true) {\n      try {\n            for (let i = 0; i < inline_js.length; i++) {\n      inline_js[i].call(root, root.Bokeh);\n    }\n\n      } catch (error) {display_loaded(error);throw error;\n      }if (force === true) {\n        display_loaded();\n      }} else if (Date.now() < root._bokeh_timeout) {\n      setTimeout(run_inline_js, 100);\n    } else if (!root._bokeh_failed_load) {\n      console.log(\"Bokeh: BokehJS failed to load within specified timeout.\");\n      root._bokeh_failed_load = true;\n    } else if (force !== true) {\n      const cell = $(document.getElementById(\"c8bdf519-b021-4ecf-9393-5388586835d9\")).parents('.cell').data().cell;\n      cell.output_area.append_execute_result(NB_LOAD_WARNING)\n    }\n  }\n\n  if (root._bokeh_is_loading === 0) {\n    console.debug(\"Bokeh: BokehJS loaded, going straight to plotting\");\n    run_inline_js();\n  } else {\n    load_libs(css_urls, js_urls, function() {\n      console.debug(\"Bokeh: BokehJS plotting callback run at\", now());\n      run_inline_js();\n    });\n  }\n}(window));"
     },
     "metadata": {},
     "output_type": "display_data"
    }
   ],
   "source": [
    "import yfinance as yf\n",
    "import ta\n",
    "import pandas as pd\n",
    "from backtesting import Backtest, Strategy\n",
    "from backtesting.lib import crossover"
   ]
  },
  {
   "cell_type": "code",
   "execution_count": 65,
   "id": "9fbde1c4-efa4-45aa-abc1-4f387c20a223",
   "metadata": {},
   "outputs": [],
   "source": [
    "class SMA_RSI_Strategy(Strategy):\n",
    "    n1 = 20\n",
    "    n2 = 50\n",
    "    rsi_period = 14\n",
    "\n",
    "    def init(self):\n",
    "        close = pd.Series(self.data.Close)\n",
    "        self.sma1 = self.I(ta.trend.sma_indicator, close, self.n1)\n",
    "        self.sma2 = self.I(ta.trend.sma_indicator, close, self.n2)\n",
    "        self.rsi = self.I(ta.momentum.rsi, close, self.rsi_period)\n",
    "\n",
    "    def next(self):\n",
    "        if crossover(self.sma1, self.sma2) and self.rsi[-1] < 30:\n",
    "            self.buy()\n",
    "        elif crossover(self.sma2, self.sma1):\n",
    "            self.sell()"
   ]
  },
  {
   "cell_type": "code",
   "execution_count": 66,
   "id": "683a68a6-8b23-47eb-9ad9-ad4c81f60823",
   "metadata": {},
   "outputs": [
    {
     "name": "stderr",
     "output_type": "stream",
     "text": [
      "C:\\Users\\FARHAN KHAN\\AppData\\Local\\Temp\\ipykernel_37416\\3736517227.py:1: FutureWarning: YF.download() has changed argument auto_adjust default to True\n",
      "  df = yf.download(\"HINDUNILVR.NS\", start = \"2024-09-01\")\n",
      "[*********************100%***********************]  1 of 1 completed\n"
     ]
    }
   ],
   "source": [
    "df = yf.download(\"HINDUNILVR.NS\", start = \"2024-09-01\")\n",
    "df.columns = df.columns.get_level_values(0)  # <- Add this line\n",
    "df.dropna(inplace=True)"
   ]
  },
  {
   "cell_type": "code",
   "execution_count": 67,
   "id": "e422b4fc-0464-468d-b57b-35363be65f5b",
   "metadata": {},
   "outputs": [],
   "source": [
    "bt = Backtest(df, SMA_RSI_Strategy, cash = 100000, commission = 0.002, exclusive_orders = True)"
   ]
  },
  {
   "cell_type": "code",
   "execution_count": 75,
   "id": "a38f8530-d4fa-4f07-ae45-db48f7971cb9",
   "metadata": {
    "scrolled": true
   },
   "outputs": [
    {
     "data": {
      "application/vnd.jupyter.widget-view+json": {
       "model_id": "d6438ce0d06f49faa2fc7448f85fff87",
       "version_major": 2,
       "version_minor": 0
      },
      "text/plain": [
       "Backtest.run:   0%|          | 0/155 [00:00<?, ?bar/s]"
      ]
     },
     "metadata": {},
     "output_type": "display_data"
    },
    {
     "data": {
      "text/html": [
       "\n",
       "  <div id=\"b0e31340-013b-4e08-88c9-38c6de53cb80\" data-root-id=\"p2993\" style=\"display: contents;\"></div>\n"
      ]
     },
     "metadata": {},
     "output_type": "display_data"
    },
    {
     "data": {
      "application/javascript": [
       "(function(root) {\n",
       "  function embed_document(root) {\n",
       "  const docs_json = {\"033ac391-1b67-4605-a20f-9fb16c59d2c6\":{\"version\":\"3.6.2\",\"title\":\"Bokeh Application\",\"roots\":[{\"type\":\"object\",\"name\":\"GridPlot\",\"id\":\"p2993\",\"attributes\":{\"rows\":null,\"cols\":null,\"sizing_mode\":\"stretch_width\",\"toolbar\":{\"type\":\"object\",\"name\":\"Toolbar\",\"id\":\"p2992\",\"attributes\":{\"logo\":null,\"tools\":[{\"type\":\"object\",\"name\":\"ToolProxy\",\"id\":\"p2978\",\"attributes\":{\"tools\":[{\"type\":\"object\",\"name\":\"PanTool\",\"id\":\"p2668\",\"attributes\":{\"dimensions\":\"width\"}},{\"type\":\"object\",\"name\":\"PanTool\",\"id\":\"p2768\",\"attributes\":{\"dimensions\":\"width\"}},{\"type\":\"object\",\"name\":\"PanTool\",\"id\":\"p2621\",\"attributes\":{\"dimensions\":\"width\"}},{\"type\":\"object\",\"name\":\"PanTool\",\"id\":\"p2826\",\"attributes\":{\"dimensions\":\"width\"}},{\"type\":\"object\",\"name\":\"PanTool\",\"id\":\"p2945\",\"attributes\":{\"dimensions\":\"width\"}}]}},{\"type\":\"object\",\"name\":\"ToolProxy\",\"id\":\"p2979\",\"attributes\":{\"tools\":[{\"type\":\"object\",\"name\":\"WheelZoomTool\",\"id\":\"p2669\",\"attributes\":{\"dimensions\":\"width\",\"renderers\":\"auto\",\"maintain_focus\":false}},{\"type\":\"object\",\"name\":\"WheelZoomTool\",\"id\":\"p2769\",\"attributes\":{\"dimensions\":\"width\",\"renderers\":\"auto\",\"maintain_focus\":false}},{\"type\":\"object\",\"name\":\"WheelZoomTool\",\"id\":\"p2622\",\"attributes\":{\"dimensions\":\"width\",\"renderers\":\"auto\",\"maintain_focus\":false}},{\"type\":\"object\",\"name\":\"WheelZoomTool\",\"id\":\"p2827\",\"attributes\":{\"dimensions\":\"width\",\"renderers\":\"auto\",\"maintain_focus\":false}},{\"type\":\"object\",\"name\":\"WheelZoomTool\",\"id\":\"p2946\",\"attributes\":{\"dimensions\":\"width\",\"renderers\":\"auto\",\"maintain_focus\":false}}]}},{\"type\":\"object\",\"name\":\"ToolProxy\",\"id\":\"p2980\",\"attributes\":{\"tools\":[{\"type\":\"object\",\"name\":\"WheelPanTool\",\"id\":\"p2670\"},{\"type\":\"object\",\"name\":\"WheelPanTool\",\"id\":\"p2770\"},{\"type\":\"object\",\"name\":\"WheelPanTool\",\"id\":\"p2623\"},{\"type\":\"object\",\"name\":\"WheelPanTool\",\"id\":\"p2828\"},{\"type\":\"object\",\"name\":\"WheelPanTool\",\"id\":\"p2947\"}]}},{\"type\":\"object\",\"name\":\"ToolProxy\",\"id\":\"p2981\",\"attributes\":{\"tools\":[{\"type\":\"object\",\"name\":\"BoxZoomTool\",\"id\":\"p2671\",\"attributes\":{\"overlay\":{\"type\":\"object\",\"name\":\"BoxAnnotation\",\"id\":\"p2672\",\"attributes\":{\"syncable\":false,\"line_color\":\"black\",\"line_alpha\":1.0,\"line_width\":2,\"line_dash\":[4,4],\"fill_color\":\"lightgrey\",\"fill_alpha\":0.5,\"level\":\"overlay\",\"visible\":false,\"left\":{\"type\":\"number\",\"value\":\"nan\"},\"right\":{\"type\":\"number\",\"value\":\"nan\"},\"top\":{\"type\":\"number\",\"value\":\"nan\"},\"bottom\":{\"type\":\"number\",\"value\":\"nan\"},\"left_units\":\"canvas\",\"right_units\":\"canvas\",\"top_units\":\"canvas\",\"bottom_units\":\"canvas\",\"handles\":{\"type\":\"object\",\"name\":\"BoxInteractionHandles\",\"id\":\"p2678\",\"attributes\":{\"all\":{\"type\":\"object\",\"name\":\"AreaVisuals\",\"id\":\"p2677\",\"attributes\":{\"fill_color\":\"white\",\"hover_fill_color\":\"lightgray\"}}}}}}}},{\"type\":\"object\",\"name\":\"BoxZoomTool\",\"id\":\"p2771\",\"attributes\":{\"overlay\":{\"type\":\"object\",\"name\":\"BoxAnnotation\",\"id\":\"p2772\",\"attributes\":{\"syncable\":false,\"line_color\":\"black\",\"line_alpha\":1.0,\"line_width\":2,\"line_dash\":[4,4],\"fill_color\":\"lightgrey\",\"fill_alpha\":0.5,\"level\":\"overlay\",\"visible\":false,\"left\":{\"type\":\"number\",\"value\":\"nan\"},\"right\":{\"type\":\"number\",\"value\":\"nan\"},\"top\":{\"type\":\"number\",\"value\":\"nan\"},\"bottom\":{\"type\":\"number\",\"value\":\"nan\"},\"left_units\":\"canvas\",\"right_units\":\"canvas\",\"top_units\":\"canvas\",\"bottom_units\":\"canvas\",\"handles\":{\"type\":\"object\",\"name\":\"BoxInteractionHandles\",\"id\":\"p2778\",\"attributes\":{\"all\":{\"type\":\"object\",\"name\":\"AreaVisuals\",\"id\":\"p2777\",\"attributes\":{\"fill_color\":\"white\",\"hover_fill_color\":\"lightgray\"}}}}}}}},{\"type\":\"object\",\"name\":\"BoxZoomTool\",\"id\":\"p2624\",\"attributes\":{\"overlay\":{\"type\":\"object\",\"name\":\"BoxAnnotation\",\"id\":\"p2625\",\"attributes\":{\"syncable\":false,\"line_color\":\"black\",\"line_alpha\":1.0,\"line_width\":2,\"line_dash\":[4,4],\"fill_color\":\"lightgrey\",\"fill_alpha\":0.5,\"level\":\"overlay\",\"visible\":false,\"left\":{\"type\":\"number\",\"value\":\"nan\"},\"right\":{\"type\":\"number\",\"value\":\"nan\"},\"top\":{\"type\":\"number\",\"value\":\"nan\"},\"bottom\":{\"type\":\"number\",\"value\":\"nan\"},\"left_units\":\"canvas\",\"right_units\":\"canvas\",\"top_units\":\"canvas\",\"bottom_units\":\"canvas\",\"handles\":{\"type\":\"object\",\"name\":\"BoxInteractionHandles\",\"id\":\"p2631\",\"attributes\":{\"all\":{\"type\":\"object\",\"name\":\"AreaVisuals\",\"id\":\"p2630\",\"attributes\":{\"fill_color\":\"white\",\"hover_fill_color\":\"lightgray\"}}}}}}}},{\"type\":\"object\",\"name\":\"BoxZoomTool\",\"id\":\"p2829\",\"attributes\":{\"overlay\":{\"type\":\"object\",\"name\":\"BoxAnnotation\",\"id\":\"p2830\",\"attributes\":{\"syncable\":false,\"line_color\":\"black\",\"line_alpha\":1.0,\"line_width\":2,\"line_dash\":[4,4],\"fill_color\":\"lightgrey\",\"fill_alpha\":0.5,\"level\":\"overlay\",\"visible\":false,\"left\":{\"type\":\"number\",\"value\":\"nan\"},\"right\":{\"type\":\"number\",\"value\":\"nan\"},\"top\":{\"type\":\"number\",\"value\":\"nan\"},\"bottom\":{\"type\":\"number\",\"value\":\"nan\"},\"left_units\":\"canvas\",\"right_units\":\"canvas\",\"top_units\":\"canvas\",\"bottom_units\":\"canvas\",\"handles\":{\"type\":\"object\",\"name\":\"BoxInteractionHandles\",\"id\":\"p2836\",\"attributes\":{\"all\":{\"type\":\"object\",\"name\":\"AreaVisuals\",\"id\":\"p2835\",\"attributes\":{\"fill_color\":\"white\",\"hover_fill_color\":\"lightgray\"}}}}}}}},{\"type\":\"object\",\"name\":\"BoxZoomTool\",\"id\":\"p2948\",\"attributes\":{\"overlay\":{\"type\":\"object\",\"name\":\"BoxAnnotation\",\"id\":\"p2949\",\"attributes\":{\"syncable\":false,\"line_color\":\"black\",\"line_alpha\":1.0,\"line_width\":2,\"line_dash\":[4,4],\"fill_color\":\"lightgrey\",\"fill_alpha\":0.5,\"level\":\"overlay\",\"visible\":false,\"left\":{\"type\":\"number\",\"value\":\"nan\"},\"right\":{\"type\":\"number\",\"value\":\"nan\"},\"top\":{\"type\":\"number\",\"value\":\"nan\"},\"bottom\":{\"type\":\"number\",\"value\":\"nan\"},\"left_units\":\"canvas\",\"right_units\":\"canvas\",\"top_units\":\"canvas\",\"bottom_units\":\"canvas\",\"handles\":{\"type\":\"object\",\"name\":\"BoxInteractionHandles\",\"id\":\"p2955\",\"attributes\":{\"all\":{\"type\":\"object\",\"name\":\"AreaVisuals\",\"id\":\"p2954\",\"attributes\":{\"fill_color\":\"white\",\"hover_fill_color\":\"lightgray\"}}}}}}}}]}},{\"type\":\"object\",\"name\":\"ToolProxy\",\"id\":\"p2982\",\"attributes\":{\"tools\":[{\"type\":\"object\",\"name\":\"UndoTool\",\"id\":\"p2679\"},{\"type\":\"object\",\"name\":\"UndoTool\",\"id\":\"p2779\"},{\"type\":\"object\",\"name\":\"UndoTool\",\"id\":\"p2632\"},{\"type\":\"object\",\"name\":\"UndoTool\",\"id\":\"p2837\"},{\"type\":\"object\",\"name\":\"UndoTool\",\"id\":\"p2956\"}]}},{\"type\":\"object\",\"name\":\"ToolProxy\",\"id\":\"p2983\",\"attributes\":{\"tools\":[{\"type\":\"object\",\"name\":\"RedoTool\",\"id\":\"p2680\"},{\"type\":\"object\",\"name\":\"RedoTool\",\"id\":\"p2780\"},{\"type\":\"object\",\"name\":\"RedoTool\",\"id\":\"p2633\"},{\"type\":\"object\",\"name\":\"RedoTool\",\"id\":\"p2838\"},{\"type\":\"object\",\"name\":\"RedoTool\",\"id\":\"p2957\"}]}},{\"type\":\"object\",\"name\":\"ToolProxy\",\"id\":\"p2984\",\"attributes\":{\"tools\":[{\"type\":\"object\",\"name\":\"ResetTool\",\"id\":\"p2681\"},{\"type\":\"object\",\"name\":\"ResetTool\",\"id\":\"p2781\"},{\"type\":\"object\",\"name\":\"ResetTool\",\"id\":\"p2634\"},{\"type\":\"object\",\"name\":\"ResetTool\",\"id\":\"p2839\"},{\"type\":\"object\",\"name\":\"ResetTool\",\"id\":\"p2958\"}]}},{\"type\":\"object\",\"name\":\"SaveTool\",\"id\":\"p2985\"},{\"type\":\"object\",\"name\":\"ToolProxy\",\"id\":\"p2986\",\"attributes\":{\"tools\":[{\"type\":\"object\",\"name\":\"HoverTool\",\"id\":\"p2704\",\"attributes\":{\"renderers\":[{\"type\":\"object\",\"name\":\"GlyphRenderer\",\"id\":\"p2701\",\"attributes\":{\"data_source\":{\"type\":\"object\",\"name\":\"ColumnDataSource\",\"id\":\"p2636\",\"attributes\":{\"selected\":{\"type\":\"object\",\"name\":\"Selection\",\"id\":\"p2637\",\"attributes\":{\"indices\":[],\"line_indices\":[]}},\"selection_policy\":{\"type\":\"object\",\"name\":\"UnionRenderers\",\"id\":\"p2638\"},\"data\":{\"type\":\"map\",\"entries\":[[\"index\",{\"type\":\"ndarray\",\"array\":{\"type\":\"bytes\",\"data\":\"AAAAAAEAAAACAAAAAwAAAAQAAAAFAAAABgAAAAcAAAAIAAAACQAAAAoAAAALAAAADAAAAA0AAAAOAAAADwAAABAAAAARAAAAEgAAABMAAAAUAAAAFQAAABYAAAAXAAAAGAAAABkAAAAaAAAAGwAAABwAAAAdAAAAHgAAAB8AAAAgAAAAIQAAACIAAAAjAAAAJAAAACUAAAAmAAAAJwAAACgAAAApAAAAKgAAACsAAAAsAAAALQAAAC4AAAAvAAAAMAAAADEAAAAyAAAAMwAAADQAAAA1AAAANgAAADcAAAA4AAAAOQAAADoAAAA7AAAAPAAAAD0AAAA+AAAAPwAAAEAAAABBAAAAQgAAAEMAAABEAAAARQAAAEYAAABHAAAASAAAAEkAAABKAAAASwAAAEwAAABNAAAATgAAAE8AAABQAAAAUQAAAFIAAABTAAAAVAAAAFUAAABWAAAAVwAAAFgAAABZAAAAWgAAAFsAAABcAAAAXQAAAF4AAABfAAAAYAAAAGEAAABiAAAAYwAAAGQAAABlAAAAZgAAAGcAAABoAAAAaQAAAGoAAABrAAAAbAAAAG0AAABuAAAAbwAAAHAAAABxAAAAcgAAAHMAAAB0AAAAdQAAAHYAAAB3AAAAeAAAAHkAAAB6AAAAewAAAHwAAAB9AAAAfgAAAH8AAACAAAAAgQAAAIIAAACDAAAAhAAAAIUAAACGAAAAhwAAAIgAAACJAAAAigAAAIsAAACMAAAAjQAAAI4AAACPAAAAkAAAAJEAAACSAAAAkwAAAJQAAACVAAAAlgAAAJcAAACYAAAAmQAAAJoAAACbAAAAnAAAAJ0AAACeAAAAnwAAAKAAAAChAAAAogAAAKMAAACkAAAApQAAAKYAAACnAAAAqAAAAKkAAACqAAAAqwAAAKwAAACtAAAArgAAAK8AAACwAAAAsQAAALIAAACzAAAAtAAAALUAAAC2AAAAtwAAALgAAAC5AAAAugAAALsAAAC8AAAAvQAAAL4AAAC/AAAAwAAAAMEAAADCAAAAwwAAAMQAAADFAAAAxgAAAMcAAADIAAAAyQAAAMoAAADLAAAAzAAAAA==\"},\"shape\":[205],\"dtype\":\"int32\",\"order\":\"little\"}],[\"Open\",{\"type\":\"ndarray\",\"array\":{\"type\":\"bytes\",\"data\":\"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\"},\"shape\":[205],\"dtype\":\"float64\",\"order\":\"little\"}],[\"High\",{\"type\":\"ndarray\",\"array\":{\"type\":\"bytes\",\"data\":\"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\"},\"shape\":[205],\"dtype\":\"float64\",\"order\":\"little\"}],[\"Low\",{\"type\":\"ndarray\",\"array\":{\"type\":\"bytes\",\"data\":\"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\"},\"shape\":[205],\"dtype\":\"float64\",\"order\":\"little\"}],[\"Close\",{\"type\":\"ndarray\",\"array\":{\"type\":\"bytes\",\"data\":\"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\"},\"shape\":[205],\"dtype\":\"float64\",\"order\":\"little\"}],[\"Volume\",{\"type\":\"ndarray\",\"array\":{\"type\":\"bytes\",\"data\":\"/p0OAOTaHgAaChkAVa4dABqGGQCiATMASHIXAEEzHQAkdCUAsQUdAKG4FgClwxAAnBcHAHIjGgAgkTcA9tcTAFxwHQB6GhAAKQkdADltLQA21hgAghMSACfSEgCmeyUAz4sTANDgGgC6hhYAtoIfAItdCgAaVg0AKoUQAG3dEQCy4BQAfVoRABkXDAC9aRMAmtkVAAuhjADOISoAXQMNAKbfGQD9URIAKwMdAATPAQAsvhAAXrYKAF6aEgDOLRQADfQZABnwEQCeyBgAwUETAIFIJQAH+BQAOksRADW2EwDX4hkAraZCAKr9DgAIeA4A8sMmAFxkGwCRXQ8AdAwZABcqFADznB8AtvUTAL2mMwDefR8A0TcaAFBNMQCmfyIAQAkTAHGGIADzFA8Aa0QZALuUHwDXRBAAfm4KACnGDwAQfwgAFBoOAOqqHAAViwgAODAZAH9xEwBDvQ0AkBQOAAeMDgCzASUAxzQZAMWYJwCFUh8ArooSAGQnKgANVxQAgRcVAMUeHAD/jigAHQQ0AFjEGQAuzSUAPN8cALisCgC4qhUANEogAHdVLQDglCYAGmceAGi2FABRRhEAMg4NABI9FADMMhUA1XkUALdeFAAUUxEAkIAVALnNDwC/NhcA9KkhAAUvGwAt1xgAyFUeAErvGQCxMzgAZu8TAIp4GwBJexEAZFUcAHSGGgAT9RIAQzsUAMRJFwB9KRwATvcQAAAAAADddxQAAcUVAN/XIABEMRYAXAQiAMueFQCzQjkA2MoiANoVJgBFnxQAiP0TAOIXEQCxajQAWlcqACGcLQCziDoA220uAMtFEQCi8R0AHo8WANrkIwCS9yEAVs9rAFKjKwDMvBcAw+8cAN/LHwCcuxUA96UfAH3PHACgkhgAgXIjAHWNGwD5cxMAwXEdAG/tFwBJYzEA6HkWAM9KDgAArhgAwvcXAGX7JABW4QwAyp4NACp2HADtsQ0A6/QQADwvMgBd+hEAiRUZAFgrMgBKSBsAcDgPADa9EwBeJBsAay0eAED1MgCKjxoAkd0QADQUEQBzYR8AVYgSAKj7KABo3AwAKz4lAOb6DwAimxwA5QcQAA==\"},\"shape\":[205],\"dtype\":\"int32\",\"order\":\"little\"}],[\"datetime\",{\"type\":\"ndarray\",\"array\":{\"type\":\"bytes\",\"data\":\"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\"},\"shape\":[205],\"dtype\":\"float64\",\"order\":\"little\"}],[\"inc\",{\"type\":\"ndarray\",\"array\":[\"0\",\"1\",\"1\",\"0\",\"1\",\"1\",\"0\",\"0\",\"1\",\"0\",\"0\",\"1\",\"1\",\"1\",\"1\",\"1\",\"0\",\"0\",\"1\",\"0\",\"0\",\"0\",\"0\",\"0\",\"0\",\"0\",\"0\",\"0\",\"1\",\"0\",\"0\",\"0\",\"0\",\"0\",\"0\",\"0\",\"1\",\"0\",\"1\",\"1\",\"0\",\"0\",\"0\",\"0\",\"0\",\"1\",\"0\",\"0\",\"1\",\"0\",\"0\",\"1\",\"0\",\"1\",\"0\",\"0\",\"1\",\"1\",\"0\",\"1\",\"0\",\"1\",\"0\",\"1\",\"0\",\"1\",\"0\",\"0\",\"0\",\"0\",\"0\",\"1\",\"0\",\"1\",\"1\",\"1\",\"0\",\"1\",\"1\",\"1\",\"0\",\"1\",\"0\",\"0\",\"1\",\"1\",\"0\",\"1\",\"1\",\"1\",\"1\",\"1\",\"0\",\"0\",\"0\",\"1\",\"0\",\"0\",\"1\",\"1\",\"1\",\"1\",\"0\",\"0\",\"1\",\"1\",\"1\",\"0\",\"0\",\"0\",\"0\",\"0\",\"0\",\"0\",\"1\",\"0\",\"0\",\"1\",\"0\",\"0\",\"0\",\"0\",\"1\",\"1\",\"0\",\"0\",\"0\",\"0\",\"1\",\"1\",\"0\",\"1\",\"0\",\"0\",\"0\",\"1\",\"1\",\"0\",\"1\",\"1\",\"1\",\"1\",\"0\",\"1\",\"1\",\"0\",\"0\",\"1\",\"1\",\"1\",\"1\",\"1\",\"0\",\"0\",\"1\",\"1\",\"0\",\"1\",\"1\",\"0\",\"1\",\"0\",\"0\",\"1\",\"0\",\"1\",\"1\",\"1\",\"0\",\"1\",\"1\",\"0\",\"0\",\"1\",\"1\",\"1\",\"0\",\"1\",\"0\",\"1\",\"1\",\"0\",\"0\",\"0\",\"0\",\"1\",\"0\",\"1\",\"1\",\"1\",\"0\",\"1\",\"0\",\"0\",\"1\",\"1\",\"1\",\"0\",\"0\",\"1\",\"0\",\"0\",\"0\",\"0\",\"1\"],\"shape\":[205],\"dtype\":\"object\",\"order\":\"little\"}],[\"equity\",{\"type\":\"ndarray\",\"array\":{\"type\":\"bytes\",\"data\":\"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\"},\"shape\":[205],\"dtype\":\"float64\",\"order\":\"little\"}],[\"sma_indic\\u2026(20)_0_0\",{\"type\":\"ndarray\",\"array\":{\"type\":\"bytes\",\"data\":\"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\"},\"shape\":[205],\"dtype\":\"float64\",\"order\":\"little\"}],[\"sma_indic\\u2026(50)_1_0\",{\"type\":\"ndarray\",\"array\":{\"type\":\"bytes\",\"data\":\"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\"},\"shape\":[205],\"dtype\":\"float64\",\"order\":\"little\"}],[\"rsi(14)_2_0\",{\"type\":\"ndarray\",\"array\":{\"type\":\"bytes\",\"data\":\"AAAAAAAA+H8AAAAAAAD4fwAAAAAAAPh/AAAAAAAA+H8AAAAAAAD4fwAAAAAAAPh/AAAAAAAA+H8AAAAAAAD4fwAAAAAAAPh/AAAAAAAA+H8AAAAAAAD4fwAAAAAAAPh/AAAAAAAA+H/aiHzigwVQQCVnRnX8FVJAMGUz85AyU0A09s+sn1lOQBliXtnSNU5AyNpd75cgUEAiuyeo43FOQOOjUJe6uU1Aw2/M9v3DSkC7mUASOXVIQOHfhm+QhkVATC/g6RucRECRyDdNx79DQNCXES/JHkFAokUq8EByQEBZ+UZ+oRFDQLrelf1AmUNA3RZbeBAkQ0CzN16y2CBDQJ4xOc9gn0BAMKn6PNsHP0AURfN8Y8Y8QAjxwRY1rztABHUWbpazOUAchOazmskwQCzls3tuKzVAmIzs8WN9PUAIRWIKSqM7QGAcR6mV4jxAuJOE7HkMO0Cc6vwxML08QMQ+h0V+yTtAVK6W4ziFO0CYxv5KTWI7QMQ46mjxUTlAEHS9gTUrQEDU30p/yLo+QPQnhxUGEDxAdAAN5s/WPEDgx/AmmPk2QHi74PUO0D1A1Hn99a3JPEAcYxg+vp86QPb36GcHAENAf1nRx4kHRUAs3F9DCp9FQIFTzc9tOkZAuiQM6eOyREDLiRdKQWhHQDEGWYe/S0ZAcnF6LM+ZRkDYryqFlFhFQOCTzAHB50dAOhbRmZgbR0DrPRjQDhtCQNLtWek970FA8Lb91WRQQkDowgR6Uww/QFmhWyO9hkNAPRh8ZNtPQkDq1zkJJSpCQIi/CnqO8kFAOCfoLnoDQkBcWBqS9YtAQOQG8LBCGkFA3EDk3GTmQEB+8DI7vrhAQO791yHQ1EFAUdOOfFoiQkCK/ISYUt5AQOq6aQSpg0BA6RTaOT67RkByz6MCuVBKQMaH38FLjUdARZ/RQ/DtSEAimu3t8t9JQOfQl6jmx0xALENVpcpMTUBwUWHFQQJOQD08r9GgW0ZAlqPmkNXPRkDJ34dWWsZEQCnCXoKtpkVAw72SYQr9RECsKzrpFqBEQERoUihp6ERA9x6vAzIvQ0B6VLuVFTBIQM0CAtTSY0pA+KFT8foASkAfd9XU6oJJQHhCA+ZwzUtAXmrYifITUECoUxGQhhxRQDmDz023LExAkOy1HijaS0Ax5TxE4T9IQCjZdzOs/0ZAEbhjyg9mRkAFnD/+sTpGQM5kgfd2N0NAS9T+l7fORECRRnsJKBhEQEXu8dNa4kNAkzr1z2MHRUBub2GUqbZCQLRLMv4uG0BAlFMIxRf3P0BMu+Ov+UI/QHRPR4cOPT9Azv21ZBfnQUBUeSG64+1AQNgy0R0YrjtAMDwyiaNoOkDkJA+Gr6I4QJBs9DJ8IDxAJ+nSfZ2qQ0DsxX27i7tCQJ9M4aE15EZAZznoRDDFREBIW/KZ0kRDQOhXY4nPM0JA/M7z1fb9QUD8zvPV9v1BQIsyJ9N2IUVAUUG7pNgCSUCn9bPp3lRJQPBUKKlLMkpAWgj2tAJ7S0BJ0Xhl4QlJQEMf9JqU6khAOehXPGxHSkD2h9kQNtNHQJaz4XWePkhA0RpMy170SEDRGkzLXvRIQFEN9YRyhklAmLpUkK+hTUCL+nYZ5QNRQLmKh6HrelFAFH1oAY8rUUA20N1Nr1RRQG45GXigmVFA+WcIAI3ET0B+nmFrP3VRQC623t9VIVJABZxllc9WSkBch2MJT9FKQLnrJUq6tklAoIDKdOr0SUA4NKslXYxLQMRuX+IpdUlAQnH47LzGS0Aue7r6fAZOQB829G2b+kxA4t2hE9p8S0Bv4JFXtYdJQGKxJbM0I01AZ1EB/hYuS0B/JJMm119KQELgFYfevUpAQ5XoGim6TEAIeZBF49JMQOq7LAlw7EhAvxi+LTjHSkBMlMWxyf5HQHfYlOJSRkpAMH+NY6q7TEAXAh4UqoJLQBwEsyoC9ElApJhetmpTSkDcIajnD7ZIQDHpSMXCqUpAGDp2lw/ySEDqgu+wgv9JQP06XXwzA0tAu9jZBxsiTEChD2jas2tMQCeHf39TmUxA1Zx8kWpkSkBS30wvqB5GQMpZKqQ0+URAzkGvng/vRUA0BQupdBNGQFHaBjSdU0NA2Cl7N8ASQ0AKd1+oAq1EQHFHDPAdAkRASjIGR8/lQkB2h4oZ6yNFQAHLSu5ZcEVAILctdpzpSEA=\"},\"shape\":[205],\"dtype\":\"float64\",\"order\":\"little\"}],[\"ohlc_low\",{\"type\":\"ndarray\",\"array\":{\"type\":\"bytes\",\"data\":\"nUbXS7ZSpUCc4lzm2kqlQOuM0FVGRKVAEu3cnWqqpUBsj4d8KLOlQESe5mfR0KVAx7KC5tUnpkDWVGk1qDymQFad8gb/NKZA2WYEarpkpkDcy/JJf4qlQIHVXc8D8qVAsp8KTCj1pUD1lgSYCgymQOjFl3RaN6ZAk7zYOcrJpkDPA2cz8ZqmQIYi6TBoSqZA5fn8K1GRpkBmZmauakqmQM3MzBQKW6ZAYJWYAn8vpkD5nFuY+vOlQHCEO/BznaVAib3hviqtpUC5a7h3aHmlQApwEBXELqVADkqchb/4pEDhIW2aTwClQCUvXG02N6VAusakC7Q3pUBhdUeavySlQP1iIMaY5aRA1XrlL6uqpEA7IWURIpGkQDdYhvb4g6RAr/cxblscpEDgENPuktGiQBG0C2TgLqNA6vlGkylWo0DBr8LtZHWjQJ0egHpJcKNAyYHZ9AReo0DXX8ys+USjQLCzKDGONaNA9hA5IG48o0AKge3+EUqjQKP8zjXfEKNAaqulQj8To0DFy2gAliKjQJ3nLs7h/KJAr4q9ZszxokAjWyxuyW2iQEoQpXkNXqJAoXEyOSSYokDHOe3Svl6iQP5+bH81YqJALIijiwwAo0BE1cYrlwWjQNbHihzXAKNA26hRFFf3okBlrE7ZGfuiQMijvDrjBaNAmpmZ8XcQo0DYxAJ8+P2iQLL8yh8b8aJAmpmZ2fEJo0DTsjTa/myiQEeegDjkdqJAHUURHlxwokCbpviHVhOiQCTZTThVCqJA6MmLaNFEokBwOMz/tzGiQHFJugAwK6JAkVdONGEPokC5tVFp6vihQEycPcNP5qFAXsPdla4FokC6zovEA/mhQIPsZIQKAKJAGYyV0pv5oUDACKIuJfahQFi1mBs18KFAiAwGZM7moUBexClbYUiiQGZmZr7jP6JAzczMrOc+okAzMzMjRD+iQGZmZr6iQqJAMzMzoz5MokAzMzNzRVKiQMepT8P+RqJAGLoLZEkrokBX+VjYr/uhQGJFadw7HaJAsQiC4q8OokCU4oGEWgiiQEatZ8fbB6JA4jyTJcpsoUBQ8TJupvWhQAoIPegnQaJAzczMjAVgokC//00MzEaiQM3MzBz6aaJAMzMzuypwokDNzMxMBH2iQDMzMxsUgqJAhetRyN+EokD90mZ0UXSiQHaT6VF5P6JAB7i1+5MPokB3Gr9VJS+iQLAYXwNNwaFApgFKHjnSoUDA0LIsjeKhQHC0OWCm4qFAyFFoBiHIoUBNFjkAYbChQFBjhik2YaFAntbWsqg2oUBi9pThdTahQIxFLU9rJ6FA6Eo9AlJNoUClF4rDuEOhQCovonE05qBA2loCBhOwoEBPwibiioOgQO0tgjZAn6BAN/mH/na6oECTq/3J1eygQA6Nig6f96BAxpTw3nkYoUC38qfXheSgQHA93KXZu6BAXWOJlx2soEAAAAAAT8mgQPhftio/9aBAQaAL1VnroEAzMzMbuBehQJqZmZGGGKFAAAAAuHUboUAAAAC45xuhQJN5nOc1AqFAAAAAuNQboUDNzMxEJSChQEIQ7HSE7qBAfk5vXPsqoUCzT+2mwC2hQHyowkBAn6BAAAAAWItBoUDNzMy0qUuhQDMzM3ttWqFAmpmZuRxroUDNzMy0F36hQM3MzGxBkqFAhetRGIiUoUAzMzPT0ZKhQMP1KGxBkqFAZmZmJqePoUD2KFy/DI6hQFK4HjVCjKFAcT0KZ6+KoUDNzMx8v4uhQB+F66Eyi6FAAAAAQEWMoUBxPQo3yI6hQNejcL1rkKFAj8L1mMCSoUCuR+GaBJahQLgehQtXm6FAcT0KVwagoUBI4XpkV6ShQAAAADAjqKFAUrge5YmtoUAzMzMTKLWhQNejcH2ou6FAw/UojNXDoUDsUbhuLcqhQFyPwqW6z6FACtejcDvXoUDXo3CdedyhQIXrUXg34qFAj8L1qBjpoUD2KFzP9u+hQLgehQvl96FASOF6tA//oUBcj8IlkgWiQHE9CgfgCqJAAAAAMI8QokCF61F4+xWiQAAAAADjGqJAhetR6AwgokAiuYPS0/ehQO+jnVQWzKFA3NBwcQ7ioUBvAYR2DuKhQBsKsT9uq6FA4nmdR+60oUDua7FHFrmhQAAAAGBmpaFAAAAAoJmooUAAAADAzL6hQAAAAEAzv6FAAAAAoJnOoUA=\"},\"shape\":[205],\"dtype\":\"float64\",\"order\":\"little\"}],[\"ohlc_high\",{\"type\":\"ndarray\",\"array\":{\"type\":\"bytes\",\"data\":\"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\"},\"shape\":[205],\"dtype\":\"float64\",\"order\":\"little\"}]]}}},\"view\":{\"type\":\"object\",\"name\":\"CDSView\",\"id\":\"p2702\",\"attributes\":{\"filter\":{\"type\":\"object\",\"name\":\"AllIndices\",\"id\":\"p2703\"}}},\"glyph\":{\"type\":\"object\",\"name\":\"Line\",\"id\":\"p2698\",\"attributes\":{\"x\":{\"type\":\"field\",\"field\":\"index\"},\"y\":{\"type\":\"field\",\"field\":\"equity\"},\"line_color\":\"#1f77b4\",\"line_width\":1.5}},\"nonselection_glyph\":{\"type\":\"object\",\"name\":\"Line\",\"id\":\"p2699\",\"attributes\":{\"x\":{\"type\":\"field\",\"field\":\"index\"},\"y\":{\"type\":\"field\",\"field\":\"equity\"},\"line_color\":\"#1f77b4\",\"line_alpha\":0.1,\"line_width\":1.5}},\"muted_glyph\":{\"type\":\"object\",\"name\":\"Line\",\"id\":\"p2700\",\"attributes\":{\"x\":{\"type\":\"field\",\"field\":\"index\"},\"y\":{\"type\":\"field\",\"field\":\"equity\"},\"line_color\":\"#1f77b4\",\"line_alpha\":0.2,\"line_width\":1.5}}}}],\"tooltips\":[[\"Date\",\"@datetime{%c}\"],[\"Equity\",\"@equity{+0,0.[000]%}\"]],\"formatters\":{\"type\":\"map\",\"entries\":[[\"@datetime\",\"datetime\"]]},\"mode\":\"vline\",\"point_policy\":\"follow_mouse\"}}]}},{\"type\":\"object\",\"name\":\"ToolProxy\",\"id\":\"p2987\",\"attributes\":{\"tools\":[{\"type\":\"object\",\"name\":\"HoverTool\",\"id\":\"p2803\",\"attributes\":{\"renderers\":[{\"type\":\"object\",\"name\":\"GlyphRenderer\",\"id\":\"p2800\",\"attributes\":{\"data_source\":{\"type\":\"object\",\"name\":\"ColumnDataSource\",\"id\":\"p2639\",\"attributes\":{\"selected\":{\"type\":\"object\",\"name\":\"Selection\",\"id\":\"p2640\",\"attributes\":{\"indices\":[],\"line_indices\":[]}},\"selection_policy\":{\"type\":\"object\",\"name\":\"UnionRenderers\",\"id\":\"p2641\"},\"data\":{\"type\":\"map\",\"entries\":[[\"index\",{\"type\":\"ndarray\",\"array\":{\"type\":\"bytes\",\"data\":\"egAAAMgAAAA=\"},\"shape\":[2],\"dtype\":\"int32\",\"order\":\"little\"}],[\"datetime\",{\"type\":\"ndarray\",\"array\":{\"type\":\"bytes\",\"data\":\"AABADlRTeUIAAIBaoXl5Qg==\"},\"shape\":[2],\"dtype\":\"float64\",\"order\":\"little\"}],[\"size\",{\"type\":\"ndarray\",\"array\":{\"type\":\"bytes\",\"data\":\"1v///9H///8=\"},\"shape\":[2],\"dtype\":\"int32\",\"order\":\"little\"}],[\"returns_positive\",{\"type\":\"ndarray\",\"array\":[\"1\",\"0\"],\"shape\":[2],\"dtype\":\"object\",\"order\":\"little\"}],[\"returns\",{\"type\":\"ndarray\",\"array\":{\"type\":\"bytes\",\"data\":\"qJMeQ2wisD+AIV80Dcahvw==\"},\"shape\":[2],\"dtype\":\"float64\",\"order\":\"little\"}],[\"marker_size\",{\"type\":\"ndarray\",\"array\":{\"type\":\"bytes\",\"data\":\"AAAAAAAAIEAAAAAAAAA0QA==\"},\"shape\":[2],\"dtype\":\"float64\",\"order\":\"little\"}],[\"lines\",[[111,122],[122,200]]],[\"position_lines_xs\",[[111,122],[122,200]]],[\"position_lines_ys\",[[2355.232079468475,2206.792984713286],[2206.792984713286,2283.39990234375]]]]}}},\"view\":{\"type\":\"object\",\"name\":\"CDSView\",\"id\":\"p2801\",\"attributes\":{\"filter\":{\"type\":\"object\",\"name\":\"AllIndices\",\"id\":\"p2802\"}}},\"glyph\":{\"type\":\"object\",\"name\":\"Scatter\",\"id\":\"p2797\",\"attributes\":{\"x\":{\"type\":\"field\",\"field\":\"index\"},\"y\":{\"type\":\"field\",\"field\":\"returns\"},\"size\":{\"type\":\"field\",\"field\":\"marker_size\"},\"fill_color\":{\"type\":\"field\",\"field\":\"returns_positive\",\"transform\":{\"type\":\"object\",\"name\":\"CategoricalColorMapper\",\"id\":\"p2643\",\"attributes\":{\"palette\":[\"tomato\",\"lime\"],\"factors\":[\"0\",\"1\"]}}}}},\"nonselection_glyph\":{\"type\":\"object\",\"name\":\"Scatter\",\"id\":\"p2798\",\"attributes\":{\"x\":{\"type\":\"field\",\"field\":\"index\"},\"y\":{\"type\":\"field\",\"field\":\"returns\"},\"size\":{\"type\":\"field\",\"field\":\"marker_size\"},\"line_alpha\":{\"type\":\"value\",\"value\":0.1},\"fill_color\":{\"type\":\"field\",\"field\":\"returns_positive\",\"transform\":{\"id\":\"p2643\"}},\"fill_alpha\":{\"type\":\"value\",\"value\":0.1},\"hatch_alpha\":{\"type\":\"value\",\"value\":0.1}}},\"muted_glyph\":{\"type\":\"object\",\"name\":\"Scatter\",\"id\":\"p2799\",\"attributes\":{\"x\":{\"type\":\"field\",\"field\":\"index\"},\"y\":{\"type\":\"field\",\"field\":\"returns\"},\"size\":{\"type\":\"field\",\"field\":\"marker_size\"},\"line_alpha\":{\"type\":\"value\",\"value\":0.2},\"fill_color\":{\"type\":\"field\",\"field\":\"returns_positive\",\"transform\":{\"id\":\"p2643\"}},\"fill_alpha\":{\"type\":\"value\",\"value\":0.2},\"hatch_alpha\":{\"type\":\"value\",\"value\":0.2}}}}}],\"tooltips\":[[\"Date\",\"@datetime{%c}\"],[\"Size\",\"@size{0,0}\"],[\"P/L\",\"@returns{+0.[000]%}\"]],\"formatters\":{\"type\":\"map\",\"entries\":[[\"@datetime\",\"datetime\"]]},\"point_policy\":\"follow_mouse\"}}]}},{\"type\":\"object\",\"name\":\"ToolProxy\",\"id\":\"p2988\",\"attributes\":{\"tools\":[{\"type\":\"object\",\"name\":\"HoverTool\",\"id\":\"p2973\",\"attributes\":{\"renderers\":[{\"type\":\"object\",\"name\":\"GlyphRenderer\",\"id\":\"p2891\",\"attributes\":{\"data_source\":{\"id\":\"p2636\"},\"view\":{\"type\":\"object\",\"name\":\"CDSView\",\"id\":\"p2892\",\"attributes\":{\"filter\":{\"type\":\"object\",\"name\":\"AllIndices\",\"id\":\"p2893\"}}},\"glyph\":{\"type\":\"object\",\"name\":\"VBar\",\"id\":\"p2888\",\"attributes\":{\"x\":{\"type\":\"field\",\"field\":\"index\"},\"width\":{\"type\":\"value\",\"value\":0.8},\"bottom\":{\"type\":\"field\",\"field\":\"Close\"},\"top\":{\"type\":\"field\",\"field\":\"Open\"},\"fill_color\":{\"type\":\"field\",\"field\":\"inc\",\"transform\":{\"type\":\"object\",\"name\":\"CategoricalColorMapper\",\"id\":\"p2642\",\"attributes\":{\"palette\":[\"tomato\",\"lime\"],\"factors\":[\"0\",\"1\"]}}}}},\"nonselection_glyph\":{\"type\":\"object\",\"name\":\"VBar\",\"id\":\"p2889\",\"attributes\":{\"x\":{\"type\":\"field\",\"field\":\"index\"},\"width\":{\"type\":\"value\",\"value\":0.8},\"bottom\":{\"type\":\"field\",\"field\":\"Close\"},\"top\":{\"type\":\"field\",\"field\":\"Open\"},\"line_alpha\":{\"type\":\"value\",\"value\":0.1},\"fill_color\":{\"type\":\"field\",\"field\":\"inc\",\"transform\":{\"id\":\"p2642\"}},\"fill_alpha\":{\"type\":\"value\",\"value\":0.1},\"hatch_alpha\":{\"type\":\"value\",\"value\":0.1}}},\"muted_glyph\":{\"type\":\"object\",\"name\":\"VBar\",\"id\":\"p2890\",\"attributes\":{\"x\":{\"type\":\"field\",\"field\":\"index\"},\"width\":{\"type\":\"value\",\"value\":0.8},\"bottom\":{\"type\":\"field\",\"field\":\"Close\"},\"top\":{\"type\":\"field\",\"field\":\"Open\"},\"line_alpha\":{\"type\":\"value\",\"value\":0.2},\"fill_color\":{\"type\":\"field\",\"field\":\"inc\",\"transform\":{\"id\":\"p2642\"}},\"fill_alpha\":{\"type\":\"value\",\"value\":0.2},\"hatch_alpha\":{\"type\":\"value\",\"value\":0.2}}}}}],\"tooltips\":[[\"Date\",\"@datetime{%c}\"],[\"x, y\",\"$index\\u00a0\\u00a0\\u00a0\\u00a0$y{0,0.0[0000]}\"],[\"OHLC\",\"@Open{0,0.0[0000]}\\u00a0\\u00a0\\u00a0\\u00a0@High{0,0.0[0000]}\\u00a0\\u00a0\\u00a0\\u00a0@Low{0,0.0[0000]}\\u00a0\\u00a0\\u00a0\\u00a0@Close{0,0.0[0000]}\"],[\"Volume\",\"@Volume{0,0}\"],[\"sma_indic\\u2026(20)\",\"@{sma_indic\\u2026(20)_0_0}{0,0.0[0000]}\"],[\"sma_indic\\u2026(50)\",\"@{sma_indic\\u2026(50)_1_0}{0,0.0[0000]}\"]],\"formatters\":{\"type\":\"map\",\"entries\":[[\"@datetime\",\"datetime\"]]},\"mode\":\"vline\",\"point_policy\":\"follow_mouse\"}}]}},{\"type\":\"object\",\"name\":\"ToolProxy\",\"id\":\"p2989\",\"attributes\":{\"tools\":[{\"type\":\"object\",\"name\":\"HoverTool\",\"id\":\"p2850\",\"attributes\":{\"renderers\":[{\"type\":\"object\",\"name\":\"GlyphRenderer\",\"id\":\"p2847\",\"attributes\":{\"data_source\":{\"id\":\"p2636\"},\"view\":{\"type\":\"object\",\"name\":\"CDSView\",\"id\":\"p2848\",\"attributes\":{\"filter\":{\"type\":\"object\",\"name\":\"AllIndices\",\"id\":\"p2849\"}}},\"glyph\":{\"type\":\"object\",\"name\":\"VBar\",\"id\":\"p2844\",\"attributes\":{\"x\":{\"type\":\"field\",\"field\":\"index\"},\"width\":{\"type\":\"value\",\"value\":0.8},\"top\":{\"type\":\"field\",\"field\":\"Volume\"},\"line_color\":{\"type\":\"field\",\"field\":\"inc\",\"transform\":{\"id\":\"p2642\"}},\"fill_color\":{\"type\":\"field\",\"field\":\"inc\",\"transform\":{\"id\":\"p2642\"}},\"hatch_color\":{\"type\":\"field\",\"field\":\"inc\",\"transform\":{\"id\":\"p2642\"}}}},\"nonselection_glyph\":{\"type\":\"object\",\"name\":\"VBar\",\"id\":\"p2845\",\"attributes\":{\"x\":{\"type\":\"field\",\"field\":\"index\"},\"width\":{\"type\":\"value\",\"value\":0.8},\"top\":{\"type\":\"field\",\"field\":\"Volume\"},\"line_color\":{\"type\":\"field\",\"field\":\"inc\",\"transform\":{\"id\":\"p2642\"}},\"line_alpha\":{\"type\":\"value\",\"value\":0.1},\"fill_color\":{\"type\":\"field\",\"field\":\"inc\",\"transform\":{\"id\":\"p2642\"}},\"fill_alpha\":{\"type\":\"value\",\"value\":0.1},\"hatch_color\":{\"type\":\"field\",\"field\":\"inc\",\"transform\":{\"id\":\"p2642\"}},\"hatch_alpha\":{\"type\":\"value\",\"value\":0.1}}},\"muted_glyph\":{\"type\":\"object\",\"name\":\"VBar\",\"id\":\"p2846\",\"attributes\":{\"x\":{\"type\":\"field\",\"field\":\"index\"},\"width\":{\"type\":\"value\",\"value\":0.8},\"top\":{\"type\":\"field\",\"field\":\"Volume\"},\"line_color\":{\"type\":\"field\",\"field\":\"inc\",\"transform\":{\"id\":\"p2642\"}},\"line_alpha\":{\"type\":\"value\",\"value\":0.2},\"fill_color\":{\"type\":\"field\",\"field\":\"inc\",\"transform\":{\"id\":\"p2642\"}},\"fill_alpha\":{\"type\":\"value\",\"value\":0.2},\"hatch_color\":{\"type\":\"field\",\"field\":\"inc\",\"transform\":{\"id\":\"p2642\"}},\"hatch_alpha\":{\"type\":\"value\",\"value\":0.2}}}}}],\"tooltips\":[[\"Date\",\"@datetime{%c}\"],[\"Volume\",\"@Volume{0.00 a}\"]],\"formatters\":{\"type\":\"map\",\"entries\":[[\"@datetime\",\"datetime\"]]},\"mode\":\"vline\",\"point_policy\":\"follow_mouse\"}}]}},{\"type\":\"object\",\"name\":\"ToolProxy\",\"id\":\"p2990\",\"attributes\":{\"tools\":[{\"type\":\"object\",\"name\":\"HoverTool\",\"id\":\"p2971\",\"attributes\":{\"renderers\":[{\"type\":\"object\",\"name\":\"GlyphRenderer\",\"id\":\"p2966\",\"attributes\":{\"data_source\":{\"id\":\"p2636\"},\"view\":{\"type\":\"object\",\"name\":\"CDSView\",\"id\":\"p2967\",\"attributes\":{\"filter\":{\"type\":\"object\",\"name\":\"AllIndices\",\"id\":\"p2968\"}}},\"glyph\":{\"type\":\"object\",\"name\":\"Line\",\"id\":\"p2963\",\"attributes\":{\"x\":{\"type\":\"field\",\"field\":\"index\"},\"y\":{\"type\":\"field\",\"field\":\"rsi(14)_2_0\"},\"line_color\":\"#1f77b4\",\"line_width\":1.3}},\"nonselection_glyph\":{\"type\":\"object\",\"name\":\"Line\",\"id\":\"p2964\",\"attributes\":{\"x\":{\"type\":\"field\",\"field\":\"index\"},\"y\":{\"type\":\"field\",\"field\":\"rsi(14)_2_0\"},\"line_color\":\"#1f77b4\",\"line_alpha\":0.1,\"line_width\":1.3}},\"muted_glyph\":{\"type\":\"object\",\"name\":\"Line\",\"id\":\"p2965\",\"attributes\":{\"x\":{\"type\":\"field\",\"field\":\"index\"},\"y\":{\"type\":\"field\",\"field\":\"rsi(14)_2_0\"},\"line_color\":\"#1f77b4\",\"line_alpha\":0.2,\"line_width\":1.3}}}}],\"tooltips\":[[\"Date\",\"@datetime{%c}\"],[\"rsi(14)\",\"@{rsi(14)_2_0}{0,0.0[0000]}\"]],\"formatters\":{\"type\":\"map\",\"entries\":[[\"@datetime\",\"datetime\"]]},\"mode\":\"vline\",\"point_policy\":\"follow_mouse\"}}]}},{\"type\":\"object\",\"name\":\"ToolProxy\",\"id\":\"p2991\",\"attributes\":{\"tools\":[{\"type\":\"object\",\"name\":\"CrosshairTool\",\"id\":\"p2977\",\"attributes\":{\"overlay\":[{\"type\":\"object\",\"name\":\"Span\",\"id\":\"p2975\",\"attributes\":{\"line_dash\":[2,4]}},{\"type\":\"object\",\"name\":\"Span\",\"id\":\"p2976\",\"attributes\":{\"dimension\":\"height\",\"line_dash\":[2,4]}}],\"line_color\":\"lightgrey\"}},{\"id\":\"p2977\"},{\"id\":\"p2977\"},{\"id\":\"p2977\"},{\"id\":\"p2977\"}]}}],\"active_drag\":{\"id\":\"p2978\"},\"active_scroll\":{\"id\":\"p2979\"}}},\"toolbar_location\":\"right\",\"children\":[[{\"type\":\"object\",\"name\":\"Figure\",\"id\":\"p2647\",\"attributes\":{\"width\":null,\"height\":100,\"sizing_mode\":\"stretch_width\",\"x_range\":{\"type\":\"object\",\"name\":\"Range1d\",\"id\":\"p2599\",\"attributes\":{\"js_property_callbacks\":{\"type\":\"map\",\"entries\":[[\"change:end\",[{\"type\":\"object\",\"name\":\"CustomJS\",\"id\":\"p2974\",\"attributes\":{\"args\":{\"type\":\"map\",\"entries\":[[\"ohlc_range\",{\"type\":\"object\",\"name\":\"DataRange1d\",\"id\":\"p2602\"}],[\"source\",{\"id\":\"p2636\"}],[\"volume_range\",{\"type\":\"object\",\"name\":\"DataRange1d\",\"id\":\"p2807\"}]]},\"code\":\"if (!window._bt_scale_range) {\\n    window._bt_scale_range = function (range, min, max, pad) {\\n        \\\"use strict\\\";\\n        if (min !== Infinity && max !== -Infinity) {\\n            pad = pad ? (max - min) * .03 : 0;\\n            range.start = min - pad;\\n            range.end = max + pad;\\n        } else console.error('backtesting: scale range error:', min, max, range);\\n    };\\n}\\n\\nclearTimeout(window._bt_autoscale_timeout);\\n\\nwindow._bt_autoscale_timeout = setTimeout(function () {\\n    /**\\n     * @variable cb_obj `fig_ohlc.x_range`.\\n     * @variable source `ColumnDataSource`\\n     * @variable ohlc_range `fig_ohlc.y_range`.\\n     * @variable volume_range `fig_volume.y_range`.\\n     */\\n    \\\"use strict\\\";\\n\\n    let i = Math.max(Math.floor(cb_obj.start), 0),\\n        j = Math.min(Math.ceil(cb_obj.end), source.data['ohlc_high'].length);\\n\\n    let max = Math.max.apply(null, source.data['ohlc_high'].slice(i, j)),\\n        min = Math.min.apply(null, source.data['ohlc_low'].slice(i, j));\\n    _bt_scale_range(ohlc_range, min, max, true);\\n\\n    if (volume_range) {\\n        max = Math.max.apply(null, source.data['Volume'].slice(i, j));\\n        _bt_scale_range(volume_range, 0, max * 1.03, false);\\n    }\\n\\n}, 50);\\n\"}}]]]},\"end\":204,\"bounds\":[-10.2,214.2],\"min_interval\":10}},\"y_range\":{\"type\":\"object\",\"name\":\"DataRange1d\",\"id\":\"p2649\"},\"x_scale\":{\"type\":\"object\",\"name\":\"LinearScale\",\"id\":\"p2656\"},\"y_scale\":{\"type\":\"object\",\"name\":\"LinearScale\",\"id\":\"p2657\"},\"title\":{\"type\":\"object\",\"name\":\"Title\",\"id\":\"p2654\"},\"outline_line_color\":\"#666666\",\"renderers\":[{\"type\":\"object\",\"name\":\"GlyphRenderer\",\"id\":\"p2692\",\"attributes\":{\"data_source\":{\"type\":\"object\",\"name\":\"ColumnDataSource\",\"id\":\"p2683\",\"attributes\":{\"selected\":{\"type\":\"object\",\"name\":\"Selection\",\"id\":\"p2684\",\"attributes\":{\"indices\":[],\"line_indices\":[]}},\"selection_policy\":{\"type\":\"object\",\"name\":\"UnionRenderers\",\"id\":\"p2685\"},\"data\":{\"type\":\"map\",\"entries\":[[\"index\",{\"type\":\"ndarray\",\"array\":{\"type\":\"bytes\",\"data\":\"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\"},\"shape\":[410],\"dtype\":\"int32\",\"order\":\"little\"}],[\"equity_dd\",{\"type\":\"ndarray\",\"array\":{\"type\":\"bytes\",\"data\":\"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\"},\"shape\":[410],\"dtype\":\"float64\",\"order\":\"little\"}]]}}},\"view\":{\"type\":\"object\",\"name\":\"CDSView\",\"id\":\"p2693\",\"attributes\":{\"filter\":{\"type\":\"object\",\"name\":\"AllIndices\",\"id\":\"p2694\"}}},\"glyph\":{\"type\":\"object\",\"name\":\"Patch\",\"id\":\"p2689\",\"attributes\":{\"x\":{\"type\":\"field\",\"field\":\"index\"},\"y\":{\"type\":\"field\",\"field\":\"equity_dd\"},\"line_color\":\"#ffcb66\",\"fill_color\":\"#ffffea\"}},\"nonselection_glyph\":{\"type\":\"object\",\"name\":\"Patch\",\"id\":\"p2690\",\"attributes\":{\"x\":{\"type\":\"field\",\"field\":\"index\"},\"y\":{\"type\":\"field\",\"field\":\"equity_dd\"},\"line_color\":\"#ffcb66\",\"line_alpha\":0.1,\"fill_color\":\"#ffffea\",\"fill_alpha\":0.1,\"hatch_alpha\":0.1}},\"muted_glyph\":{\"type\":\"object\",\"name\":\"Patch\",\"id\":\"p2691\",\"attributes\":{\"x\":{\"type\":\"field\",\"field\":\"index\"},\"y\":{\"type\":\"field\",\"field\":\"equity_dd\"},\"line_color\":\"#ffcb66\",\"line_alpha\":0.2,\"fill_color\":\"#ffffea\",\"fill_alpha\":0.2,\"hatch_alpha\":0.2}}}},{\"id\":\"p2701\"},{\"type\":\"object\",\"name\":\"GlyphRenderer\",\"id\":\"p2712\",\"attributes\":{\"data_source\":{\"type\":\"object\",\"name\":\"ColumnDataSource\",\"id\":\"p2706\",\"attributes\":{\"selected\":{\"type\":\"object\",\"name\":\"Selection\",\"id\":\"p2707\",\"attributes\":{\"indices\":[],\"line_indices\":[]}},\"selection_policy\":{\"type\":\"object\",\"name\":\"UnionRenderers\",\"id\":\"p2708\"},\"data\":{\"type\":\"map\"}}},\"view\":{\"type\":\"object\",\"name\":\"CDSView\",\"id\":\"p2713\",\"attributes\":{\"filter\":{\"type\":\"object\",\"name\":\"AllIndices\",\"id\":\"p2714\"}}},\"glyph\":{\"type\":\"object\",\"name\":\"Scatter\",\"id\":\"p2709\",\"attributes\":{\"x\":{\"type\":\"value\",\"value\":127},\"y\":{\"type\":\"value\",\"value\":1.0902280262895996},\"size\":{\"type\":\"value\",\"value\":8},\"line_color\":{\"type\":\"value\",\"value\":\"cyan\"},\"fill_color\":{\"type\":\"value\",\"value\":\"cyan\"},\"hatch_color\":{\"type\":\"value\",\"value\":\"cyan\"}}},\"nonselection_glyph\":{\"type\":\"object\",\"name\":\"Scatter\",\"id\":\"p2710\",\"attributes\":{\"x\":{\"type\":\"value\",\"value\":127},\"y\":{\"type\":\"value\",\"value\":1.0902280262895996},\"size\":{\"type\":\"value\",\"value\":8},\"line_color\":{\"type\":\"value\",\"value\":\"cyan\"},\"line_alpha\":{\"type\":\"value\",\"value\":0.1},\"fill_color\":{\"type\":\"value\",\"value\":\"cyan\"},\"fill_alpha\":{\"type\":\"value\",\"value\":0.1},\"hatch_color\":{\"type\":\"value\",\"value\":\"cyan\"},\"hatch_alpha\":{\"type\":\"value\",\"value\":0.1}}},\"muted_glyph\":{\"type\":\"object\",\"name\":\"Scatter\",\"id\":\"p2711\",\"attributes\":{\"x\":{\"type\":\"value\",\"value\":127},\"y\":{\"type\":\"value\",\"value\":1.0902280262895996},\"size\":{\"type\":\"value\",\"value\":8},\"line_color\":{\"type\":\"value\",\"value\":\"cyan\"},\"line_alpha\":{\"type\":\"value\",\"value\":0.2},\"fill_color\":{\"type\":\"value\",\"value\":\"cyan\"},\"fill_alpha\":{\"type\":\"value\",\"value\":0.2},\"hatch_color\":{\"type\":\"value\",\"value\":\"cyan\"},\"hatch_alpha\":{\"type\":\"value\",\"value\":0.2}}}}},{\"type\":\"object\",\"name\":\"GlyphRenderer\",\"id\":\"p2723\",\"attributes\":{\"data_source\":{\"type\":\"object\",\"name\":\"ColumnDataSource\",\"id\":\"p2717\",\"attributes\":{\"selected\":{\"type\":\"object\",\"name\":\"Selection\",\"id\":\"p2718\",\"attributes\":{\"indices\":[],\"line_indices\":[]}},\"selection_policy\":{\"type\":\"object\",\"name\":\"UnionRenderers\",\"id\":\"p2719\"},\"data\":{\"type\":\"map\"}}},\"view\":{\"type\":\"object\",\"name\":\"CDSView\",\"id\":\"p2724\",\"attributes\":{\"filter\":{\"type\":\"object\",\"name\":\"AllIndices\",\"id\":\"p2725\"}}},\"glyph\":{\"type\":\"object\",\"name\":\"Scatter\",\"id\":\"p2720\",\"attributes\":{\"x\":{\"type\":\"value\",\"value\":204},\"y\":{\"type\":\"value\",\"value\":1.0059368942290527},\"size\":{\"type\":\"value\",\"value\":8},\"line_color\":{\"type\":\"value\",\"value\":\"blue\"},\"fill_color\":{\"type\":\"value\",\"value\":\"blue\"},\"hatch_color\":{\"type\":\"value\",\"value\":\"blue\"}}},\"nonselection_glyph\":{\"type\":\"object\",\"name\":\"Scatter\",\"id\":\"p2721\",\"attributes\":{\"x\":{\"type\":\"value\",\"value\":204},\"y\":{\"type\":\"value\",\"value\":1.0059368942290527},\"size\":{\"type\":\"value\",\"value\":8},\"line_color\":{\"type\":\"value\",\"value\":\"blue\"},\"line_alpha\":{\"type\":\"value\",\"value\":0.1},\"fill_color\":{\"type\":\"value\",\"value\":\"blue\"},\"fill_alpha\":{\"type\":\"value\",\"value\":0.1},\"hatch_color\":{\"type\":\"value\",\"value\":\"blue\"},\"hatch_alpha\":{\"type\":\"value\",\"value\":0.1}}},\"muted_glyph\":{\"type\":\"object\",\"name\":\"Scatter\",\"id\":\"p2722\",\"attributes\":{\"x\":{\"type\":\"value\",\"value\":204},\"y\":{\"type\":\"value\",\"value\":1.0059368942290527},\"size\":{\"type\":\"value\",\"value\":8},\"line_color\":{\"type\":\"value\",\"value\":\"blue\"},\"line_alpha\":{\"type\":\"value\",\"value\":0.2},\"fill_color\":{\"type\":\"value\",\"value\":\"blue\"},\"fill_alpha\":{\"type\":\"value\",\"value\":0.2},\"hatch_color\":{\"type\":\"value\",\"value\":\"blue\"},\"hatch_alpha\":{\"type\":\"value\",\"value\":0.2}}}}},{\"type\":\"object\",\"name\":\"GlyphRenderer\",\"id\":\"p2733\",\"attributes\":{\"data_source\":{\"type\":\"object\",\"name\":\"ColumnDataSource\",\"id\":\"p2727\",\"attributes\":{\"selected\":{\"type\":\"object\",\"name\":\"Selection\",\"id\":\"p2728\",\"attributes\":{\"indices\":[],\"line_indices\":[]}},\"selection_policy\":{\"type\":\"object\",\"name\":\"UnionRenderers\",\"id\":\"p2729\"},\"data\":{\"type\":\"map\"}}},\"view\":{\"type\":\"object\",\"name\":\"CDSView\",\"id\":\"p2734\",\"attributes\":{\"filter\":{\"type\":\"object\",\"name\":\"AllIndices\",\"id\":\"p2735\"}}},\"glyph\":{\"type\":\"object\",\"name\":\"Scatter\",\"id\":\"p2730\",\"attributes\":{\"x\":{\"type\":\"value\",\"value\":158},\"y\":{\"type\":\"value\",\"value\":0.9662998353716308},\"size\":{\"type\":\"value\",\"value\":8},\"line_color\":{\"type\":\"value\",\"value\":\"red\"},\"fill_color\":{\"type\":\"value\",\"value\":\"red\"},\"hatch_color\":{\"type\":\"value\",\"value\":\"red\"}}},\"nonselection_glyph\":{\"type\":\"object\",\"name\":\"Scatter\",\"id\":\"p2731\",\"attributes\":{\"x\":{\"type\":\"value\",\"value\":158},\"y\":{\"type\":\"value\",\"value\":0.9662998353716308},\"size\":{\"type\":\"value\",\"value\":8},\"line_color\":{\"type\":\"value\",\"value\":\"red\"},\"line_alpha\":{\"type\":\"value\",\"value\":0.1},\"fill_color\":{\"type\":\"value\",\"value\":\"red\"},\"fill_alpha\":{\"type\":\"value\",\"value\":0.1},\"hatch_color\":{\"type\":\"value\",\"value\":\"red\"},\"hatch_alpha\":{\"type\":\"value\",\"value\":0.1}}},\"muted_glyph\":{\"type\":\"object\",\"name\":\"Scatter\",\"id\":\"p2732\",\"attributes\":{\"x\":{\"type\":\"value\",\"value\":158},\"y\":{\"type\":\"value\",\"value\":0.9662998353716308},\"size\":{\"type\":\"value\",\"value\":8},\"line_color\":{\"type\":\"value\",\"value\":\"red\"},\"line_alpha\":{\"type\":\"value\",\"value\":0.2},\"fill_color\":{\"type\":\"value\",\"value\":\"red\"},\"fill_alpha\":{\"type\":\"value\",\"value\":0.2},\"hatch_color\":{\"type\":\"value\",\"value\":\"red\"},\"hatch_alpha\":{\"type\":\"value\",\"value\":0.2}}}}},{\"type\":\"object\",\"name\":\"GlyphRenderer\",\"id\":\"p2743\",\"attributes\":{\"data_source\":{\"type\":\"object\",\"name\":\"ColumnDataSource\",\"id\":\"p2737\",\"attributes\":{\"selected\":{\"type\":\"object\",\"name\":\"Selection\",\"id\":\"p2738\",\"attributes\":{\"indices\":[],\"line_indices\":[]}},\"selection_policy\":{\"type\":\"object\",\"name\":\"UnionRenderers\",\"id\":\"p2739\"},\"data\":{\"type\":\"map\",\"entries\":[[\"x\",[127,204]]]}}},\"view\":{\"type\":\"object\",\"name\":\"CDSView\",\"id\":\"p2744\",\"attributes\":{\"filter\":{\"type\":\"object\",\"name\":\"AllIndices\",\"id\":\"p2745\"}}},\"glyph\":{\"type\":\"object\",\"name\":\"Line\",\"id\":\"p2740\",\"attributes\":{\"x\":{\"type\":\"field\",\"field\":\"x\"},\"y\":{\"type\":\"value\",\"value\":1.0902280262895996},\"line_color\":\"red\",\"line_width\":2}},\"nonselection_glyph\":{\"type\":\"object\",\"name\":\"Line\",\"id\":\"p2741\",\"attributes\":{\"x\":{\"type\":\"field\",\"field\":\"x\"},\"y\":{\"type\":\"value\",\"value\":1.0902280262895996},\"line_color\":\"red\",\"line_alpha\":0.1,\"line_width\":2}},\"muted_glyph\":{\"type\":\"object\",\"name\":\"Line\",\"id\":\"p2742\",\"attributes\":{\"x\":{\"type\":\"field\",\"field\":\"x\"},\"y\":{\"type\":\"value\",\"value\":1.0902280262895996},\"line_color\":\"red\",\"line_alpha\":0.2,\"line_width\":2}}}}],\"toolbar\":{\"type\":\"object\",\"name\":\"Toolbar\",\"id\":\"p2655\",\"attributes\":{\"tools\":[{\"id\":\"p2668\"},{\"id\":\"p2669\"},{\"id\":\"p2670\"},{\"id\":\"p2671\"},{\"id\":\"p2679\"},{\"id\":\"p2680\"},{\"id\":\"p2681\"},{\"type\":\"object\",\"name\":\"SaveTool\",\"id\":\"p2682\"},{\"id\":\"p2704\"},{\"id\":\"p2977\"}],\"active_drag\":{\"id\":\"p2668\"},\"active_scroll\":{\"id\":\"p2669\"}}},\"toolbar_location\":null,\"left\":[{\"type\":\"object\",\"name\":\"LinearAxis\",\"id\":\"p2663\",\"attributes\":{\"ticker\":{\"type\":\"object\",\"name\":\"BasicTicker\",\"id\":\"p2664\",\"attributes\":{\"desired_num_ticks\":3,\"mantissas\":[1,2,5]}},\"formatter\":{\"type\":\"object\",\"name\":\"NumeralTickFormatter\",\"id\":\"p2705\",\"attributes\":{\"format\":\"0,0.[00]%\"}},\"axis_label\":\"Equity\",\"major_label_policy\":{\"type\":\"object\",\"name\":\"AllLabels\",\"id\":\"p2666\"},\"minor_tick_line_color\":null}}],\"below\":[{\"type\":\"object\",\"name\":\"LinearAxis\",\"id\":\"p2658\",\"attributes\":{\"visible\":false,\"ticker\":{\"type\":\"object\",\"name\":\"BasicTicker\",\"id\":\"p2659\",\"attributes\":{\"mantissas\":[1,2,5]}},\"formatter\":{\"type\":\"object\",\"name\":\"BasicTickFormatter\",\"id\":\"p2660\"},\"major_label_policy\":{\"type\":\"object\",\"name\":\"AllLabels\",\"id\":\"p2661\"}}}],\"center\":[{\"type\":\"object\",\"name\":\"Grid\",\"id\":\"p2662\",\"attributes\":{\"axis\":{\"id\":\"p2658\"}}},{\"type\":\"object\",\"name\":\"Grid\",\"id\":\"p2667\",\"attributes\":{\"dimension\":1,\"axis\":{\"id\":\"p2663\"}}},{\"type\":\"object\",\"name\":\"Legend\",\"id\":\"p2715\",\"attributes\":{\"location\":\"top_left\",\"border_line_color\":\"#333333\",\"background_fill_alpha\":0.9,\"click_policy\":\"hide\",\"label_text_font_size\":\"8pt\",\"margin\":0,\"padding\":5,\"spacing\":0,\"items\":[{\"type\":\"object\",\"name\":\"LegendItem\",\"id\":\"p2716\",\"attributes\":{\"label\":{\"type\":\"value\",\"value\":\"Peak (109%)\"},\"renderers\":[{\"id\":\"p2712\"}]}},{\"type\":\"object\",\"name\":\"LegendItem\",\"id\":\"p2726\",\"attributes\":{\"label\":{\"type\":\"value\",\"value\":\"Final (101%)\"},\"renderers\":[{\"id\":\"p2723\"}]}},{\"type\":\"object\",\"name\":\"LegendItem\",\"id\":\"p2736\",\"attributes\":{\"label\":{\"type\":\"value\",\"value\":\"Max Drawdown (-11.4%)\"},\"renderers\":[{\"id\":\"p2733\"}]}},{\"type\":\"object\",\"name\":\"LegendItem\",\"id\":\"p2746\",\"attributes\":{\"label\":{\"type\":\"value\",\"value\":\"Max Dd Dur. (115 days)\"},\"renderers\":[{\"id\":\"p2743\"}]}}]}}],\"min_border_top\":3,\"min_border_bottom\":6,\"min_border_left\":0,\"min_border_right\":10}},0,0],[{\"type\":\"object\",\"name\":\"Figure\",\"id\":\"p2747\",\"attributes\":{\"width\":null,\"height\":80,\"sizing_mode\":\"stretch_width\",\"x_range\":{\"id\":\"p2599\"},\"y_range\":{\"type\":\"object\",\"name\":\"DataRange1d\",\"id\":\"p2749\"},\"x_scale\":{\"type\":\"object\",\"name\":\"LinearScale\",\"id\":\"p2756\"},\"y_scale\":{\"type\":\"object\",\"name\":\"LinearScale\",\"id\":\"p2757\"},\"title\":{\"type\":\"object\",\"name\":\"Title\",\"id\":\"p2754\"},\"outline_line_color\":\"#666666\",\"renderers\":[{\"type\":\"object\",\"name\":\"GlyphRenderer\",\"id\":\"p2791\",\"attributes\":{\"data_source\":{\"id\":\"p2639\"},\"view\":{\"type\":\"object\",\"name\":\"CDSView\",\"id\":\"p2792\",\"attributes\":{\"filter\":{\"type\":\"object\",\"name\":\"AllIndices\",\"id\":\"p2793\"}}},\"glyph\":{\"type\":\"object\",\"name\":\"MultiLine\",\"id\":\"p2788\",\"attributes\":{\"xs\":{\"type\":\"field\",\"field\":\"lines\"},\"ys\":{\"type\":\"field\",\"field\":\"returns\",\"transform\":{\"type\":\"object\",\"name\":\"CustomJSTransform\",\"id\":\"p2784\",\"attributes\":{\"v_func\":\"return [...xs].map(i => [0, i]);\"}}},\"line_color\":{\"type\":\"value\",\"value\":\"#999\"}}},\"nonselection_glyph\":{\"type\":\"object\",\"name\":\"MultiLine\",\"id\":\"p2789\",\"attributes\":{\"xs\":{\"type\":\"field\",\"field\":\"lines\"},\"ys\":{\"type\":\"field\",\"field\":\"returns\",\"transform\":{\"id\":\"p2784\"}},\"line_color\":{\"type\":\"value\",\"value\":\"#999\"},\"line_alpha\":{\"type\":\"value\",\"value\":0.1}}},\"muted_glyph\":{\"type\":\"object\",\"name\":\"MultiLine\",\"id\":\"p2790\",\"attributes\":{\"xs\":{\"type\":\"field\",\"field\":\"lines\"},\"ys\":{\"type\":\"field\",\"field\":\"returns\",\"transform\":{\"id\":\"p2784\"}},\"line_color\":{\"type\":\"value\",\"value\":\"#999\"},\"line_alpha\":{\"type\":\"value\",\"value\":0.2}}}}},{\"id\":\"p2800\"}],\"toolbar\":{\"type\":\"object\",\"name\":\"Toolbar\",\"id\":\"p2755\",\"attributes\":{\"tools\":[{\"id\":\"p2768\"},{\"id\":\"p2769\"},{\"id\":\"p2770\"},{\"id\":\"p2771\"},{\"id\":\"p2779\"},{\"id\":\"p2780\"},{\"id\":\"p2781\"},{\"type\":\"object\",\"name\":\"SaveTool\",\"id\":\"p2782\"},{\"id\":\"p2803\"},{\"id\":\"p2977\"}],\"active_drag\":{\"id\":\"p2768\"},\"active_scroll\":{\"id\":\"p2769\"}}},\"toolbar_location\":null,\"left\":[{\"type\":\"object\",\"name\":\"LinearAxis\",\"id\":\"p2763\",\"attributes\":{\"ticker\":{\"type\":\"object\",\"name\":\"BasicTicker\",\"id\":\"p2764\",\"attributes\":{\"desired_num_ticks\":3,\"mantissas\":[1,2,5]}},\"formatter\":{\"type\":\"object\",\"name\":\"NumeralTickFormatter\",\"id\":\"p2804\",\"attributes\":{\"format\":\"0.[00]%\"}},\"axis_label\":\"Profit / Loss\",\"major_label_policy\":{\"type\":\"object\",\"name\":\"AllLabels\",\"id\":\"p2766\"},\"minor_tick_line_color\":null}}],\"below\":[{\"type\":\"object\",\"name\":\"LinearAxis\",\"id\":\"p2758\",\"attributes\":{\"visible\":false,\"ticker\":{\"type\":\"object\",\"name\":\"BasicTicker\",\"id\":\"p2759\",\"attributes\":{\"mantissas\":[1,2,5]}},\"formatter\":{\"type\":\"object\",\"name\":\"BasicTickFormatter\",\"id\":\"p2760\"},\"major_label_policy\":{\"type\":\"object\",\"name\":\"AllLabels\",\"id\":\"p2761\"}}}],\"center\":[{\"type\":\"object\",\"name\":\"Grid\",\"id\":\"p2762\",\"attributes\":{\"axis\":{\"id\":\"p2758\"}}},{\"type\":\"object\",\"name\":\"Grid\",\"id\":\"p2767\",\"attributes\":{\"dimension\":1,\"axis\":{\"id\":\"p2763\"}}},{\"type\":\"object\",\"name\":\"Span\",\"id\":\"p2783\",\"attributes\":{\"level\":\"underlay\",\"location\":0,\"line_color\":\"#666666\",\"line_dash\":[6]}}],\"min_border_top\":3,\"min_border_bottom\":6,\"min_border_left\":0,\"min_border_right\":10}},1,0],[{\"type\":\"object\",\"name\":\"Figure\",\"id\":\"p2600\",\"attributes\":{\"width\":null,\"height\":400,\"sizing_mode\":\"stretch_width\",\"x_range\":{\"id\":\"p2599\"},\"y_range\":{\"id\":\"p2602\"},\"x_scale\":{\"type\":\"object\",\"name\":\"LinearScale\",\"id\":\"p2609\"},\"y_scale\":{\"type\":\"object\",\"name\":\"LinearScale\",\"id\":\"p2610\"},\"title\":{\"type\":\"object\",\"name\":\"Title\",\"id\":\"p2607\"},\"outline_line_color\":\"#666666\",\"renderers\":[{\"type\":\"object\",\"name\":\"GlyphRenderer\",\"id\":\"p2861\",\"attributes\":{\"data_source\":{\"type\":\"object\",\"name\":\"ColumnDataSource\",\"id\":\"p2852\",\"attributes\":{\"selected\":{\"type\":\"object\",\"name\":\"Selection\",\"id\":\"p2853\",\"attributes\":{\"indices\":[],\"line_indices\":[]}},\"selection_policy\":{\"type\":\"object\",\"name\":\"UnionRenderers\",\"id\":\"p2854\"},\"data\":{\"type\":\"map\",\"entries\":[[\"index\",{\"type\":\"ndarray\",\"array\":{\"type\":\"bytes\",\"data\":\"AAAAAAAAJEAAAAAAAIA/QAAAAAAAAEpAAAAAAAAAUkAAAAAAAIBXQAAAAAAA4FxAAAAAAADgYEAAAAAAAEBjQAAAAAAAwGVAAAAAAABQaEA=\"},\"shape\":[10],\"dtype\":\"float64\",\"order\":\"little\"}],[\"Open\",{\"type\":\"ndarray\",\"array\":{\"type\":\"bytes\",\"data\":\"IWbcGS1wpUBvSBWAjLumQEIdvKEChaNAo0lMVEc2o0AwGG/Mm/mhQPfWTZF8IqNAi2n1OjsAoUB1KsN++3ahQOu7bYmeC6JAf2rhh+4mokA=\"},\"shape\":[10],\"dtype\":\"float64\",\"order\":\"little\"}],[\"High\",{\"type\":\"ndarray\",\"array\":{\"type\":\"bytes\",\"data\":\"J8Ww4ZBJp0BvSBWAjLumQJgPin1zoaNA4pPVbadxo0BNF/NGZyqjQFGID+HXHaRAfbY1TjbAoUCB0SVLBzujQChg9KHZoKJA7HtNjcmTokA=\"},\"shape\":[10],\"dtype\":\"float64\",\"order\":\"little\"}],[\"Low\",{\"type\":\"ndarray\",\"array\":{\"type\":\"bytes\",\"data\":\"64zQVUZEpUDgENPuktGiQEoQpXkNXqJATJw9w0/moUDiPJMlymyhQCovonE05qBAT8Im4oqDoEB8qMJAQJ+gQA9gGWuuzKFAAAAAYGaloUA=\"},\"shape\":[10],\"dtype\":\"float64\",\"order\":\"little\"}],[\"Close\",{\"type\":\"ndarray\",\"array\":{\"type\":\"bytes\",\"data\":\"AAAAAOiypkAAAADAK2ajQAAAAKBYTKNAAAAAQEX9oUAAAABANxajQAAAAMDp7qBAAAAAgK92oUAAAAAAdBuiQAAAAEC5J6JAAAAAwMwFokA=\"},\"shape\":[10],\"dtype\":\"float64\",\"order\":\"little\"}],[\"Volume\",{\"type\":\"ndarray\",\"array\":{\"type\":\"bytes\",\"data\":\"Q9BMAj1+UQK6Y7cBfYsKAlGRYALLpQsCqVDYAVCtzAJULCYCdt8NAg==\"},\"shape\":[10],\"dtype\":\"int32\",\"order\":\"little\"}],[\"_width\",{\"type\":\"ndarray\",\"array\":{\"type\":\"bytes\",\"data\":\"ZmZmZmbmNEBmZmZmZuY1QGZmZmZm5jJAZmZmZmbmNEBmZmZmZuY2QGZmZmZm5jNAZmZmZmbmMkBmZmZmZuYyQGZmZmZm5jRAZmZmZmbmM0A=\"},\"shape\":[10],\"dtype\":\"float64\",\"order\":\"little\"}],[\"inc\",{\"type\":\"ndarray\",\"array\":[\"1\",\"0\",\"0\",\"0\",\"1\",\"0\",\"1\",\"1\",\"1\",\"0\"],\"shape\":[10],\"dtype\":\"object\",\"order\":\"little\"}]]}}},\"view\":{\"type\":\"object\",\"name\":\"CDSView\",\"id\":\"p2862\",\"attributes\":{\"filter\":{\"type\":\"object\",\"name\":\"AllIndices\",\"id\":\"p2863\"}}},\"glyph\":{\"type\":\"object\",\"name\":\"Segment\",\"id\":\"p2858\",\"attributes\":{\"x0\":{\"type\":\"field\",\"field\":\"index\"},\"y0\":{\"type\":\"field\",\"field\":\"High\"},\"x1\":{\"type\":\"field\",\"field\":\"index\"},\"y1\":{\"type\":\"field\",\"field\":\"Low\"},\"line_color\":{\"type\":\"value\",\"value\":\"#bbbbbb\"}}},\"nonselection_glyph\":{\"type\":\"object\",\"name\":\"Segment\",\"id\":\"p2859\",\"attributes\":{\"x0\":{\"type\":\"field\",\"field\":\"index\"},\"y0\":{\"type\":\"field\",\"field\":\"High\"},\"x1\":{\"type\":\"field\",\"field\":\"index\"},\"y1\":{\"type\":\"field\",\"field\":\"Low\"},\"line_color\":{\"type\":\"value\",\"value\":\"#bbbbbb\"},\"line_alpha\":{\"type\":\"value\",\"value\":0.1}}},\"muted_glyph\":{\"type\":\"object\",\"name\":\"Segment\",\"id\":\"p2860\",\"attributes\":{\"x0\":{\"type\":\"field\",\"field\":\"index\"},\"y0\":{\"type\":\"field\",\"field\":\"High\"},\"x1\":{\"type\":\"field\",\"field\":\"index\"},\"y1\":{\"type\":\"field\",\"field\":\"Low\"},\"line_color\":{\"type\":\"value\",\"value\":\"#bbbbbb\"},\"line_alpha\":{\"type\":\"value\",\"value\":0.2}}}}},{\"type\":\"object\",\"name\":\"GlyphRenderer\",\"id\":\"p2871\",\"attributes\":{\"data_source\":{\"id\":\"p2852\"},\"view\":{\"type\":\"object\",\"name\":\"CDSView\",\"id\":\"p2872\",\"attributes\":{\"filter\":{\"type\":\"object\",\"name\":\"AllIndices\",\"id\":\"p2873\"}}},\"glyph\":{\"type\":\"object\",\"name\":\"VBar\",\"id\":\"p2868\",\"attributes\":{\"x\":{\"type\":\"field\",\"field\":\"index\"},\"width\":{\"type\":\"field\",\"field\":\"_width\"},\"bottom\":{\"type\":\"field\",\"field\":\"Close\"},\"top\":{\"type\":\"field\",\"field\":\"Open\"},\"line_color\":{\"type\":\"value\",\"value\":null},\"fill_color\":{\"type\":\"field\",\"field\":\"inc\",\"transform\":{\"type\":\"object\",\"name\":\"CategoricalColorMapper\",\"id\":\"p2864\",\"attributes\":{\"palette\":[\"rgb(254, 220, 214)\",\"rgb(214, 254, 214)\"],\"factors\":[\"0\",\"1\"]}}}}},\"nonselection_glyph\":{\"type\":\"object\",\"name\":\"VBar\",\"id\":\"p2869\",\"attributes\":{\"x\":{\"type\":\"field\",\"field\":\"index\"},\"width\":{\"type\":\"field\",\"field\":\"_width\"},\"bottom\":{\"type\":\"field\",\"field\":\"Close\"},\"top\":{\"type\":\"field\",\"field\":\"Open\"},\"line_color\":{\"type\":\"value\",\"value\":null},\"line_alpha\":{\"type\":\"value\",\"value\":0.1},\"fill_color\":{\"type\":\"field\",\"field\":\"inc\",\"transform\":{\"id\":\"p2864\"}},\"fill_alpha\":{\"type\":\"value\",\"value\":0.1},\"hatch_alpha\":{\"type\":\"value\",\"value\":0.1}}},\"muted_glyph\":{\"type\":\"object\",\"name\":\"VBar\",\"id\":\"p2870\",\"attributes\":{\"x\":{\"type\":\"field\",\"field\":\"index\"},\"width\":{\"type\":\"field\",\"field\":\"_width\"},\"bottom\":{\"type\":\"field\",\"field\":\"Close\"},\"top\":{\"type\":\"field\",\"field\":\"Open\"},\"line_color\":{\"type\":\"value\",\"value\":null},\"line_alpha\":{\"type\":\"value\",\"value\":0.2},\"fill_color\":{\"type\":\"field\",\"field\":\"inc\",\"transform\":{\"id\":\"p2864\"}},\"fill_alpha\":{\"type\":\"value\",\"value\":0.2},\"hatch_alpha\":{\"type\":\"value\",\"value\":0.2}}}}},{\"type\":\"object\",\"name\":\"GlyphRenderer\",\"id\":\"p2880\",\"attributes\":{\"data_source\":{\"id\":\"p2636\"},\"view\":{\"type\":\"object\",\"name\":\"CDSView\",\"id\":\"p2881\",\"attributes\":{\"filter\":{\"type\":\"object\",\"name\":\"AllIndices\",\"id\":\"p2882\"}}},\"glyph\":{\"type\":\"object\",\"name\":\"Segment\",\"id\":\"p2877\",\"attributes\":{\"x0\":{\"type\":\"field\",\"field\":\"index\"},\"y0\":{\"type\":\"field\",\"field\":\"High\"},\"x1\":{\"type\":\"field\",\"field\":\"index\"},\"y1\":{\"type\":\"field\",\"field\":\"Low\"}}},\"nonselection_glyph\":{\"type\":\"object\",\"name\":\"Segment\",\"id\":\"p2878\",\"attributes\":{\"x0\":{\"type\":\"field\",\"field\":\"index\"},\"y0\":{\"type\":\"field\",\"field\":\"High\"},\"x1\":{\"type\":\"field\",\"field\":\"index\"},\"y1\":{\"type\":\"field\",\"field\":\"Low\"},\"line_alpha\":{\"type\":\"value\",\"value\":0.1}}},\"muted_glyph\":{\"type\":\"object\",\"name\":\"Segment\",\"id\":\"p2879\",\"attributes\":{\"x0\":{\"type\":\"field\",\"field\":\"index\"},\"y0\":{\"type\":\"field\",\"field\":\"High\"},\"x1\":{\"type\":\"field\",\"field\":\"index\"},\"y1\":{\"type\":\"field\",\"field\":\"Low\"},\"line_alpha\":{\"type\":\"value\",\"value\":0.2}}}}},{\"id\":\"p2891\"},{\"type\":\"object\",\"name\":\"GlyphRenderer\",\"id\":\"p2900\",\"attributes\":{\"data_source\":{\"id\":\"p2639\"},\"view\":{\"type\":\"object\",\"name\":\"CDSView\",\"id\":\"p2901\",\"attributes\":{\"filter\":{\"type\":\"object\",\"name\":\"AllIndices\",\"id\":\"p2902\"}}},\"glyph\":{\"type\":\"object\",\"name\":\"MultiLine\",\"id\":\"p2897\",\"attributes\":{\"xs\":{\"type\":\"field\",\"field\":\"position_lines_xs\"},\"ys\":{\"type\":\"field\",\"field\":\"position_lines_ys\"},\"line_color\":{\"type\":\"field\",\"field\":\"returns_positive\",\"transform\":{\"type\":\"object\",\"name\":\"CategoricalColorMapper\",\"id\":\"p2644\",\"attributes\":{\"palette\":[\"rgb(178, 27, 0)\",\"rgb(0, 178, 0)\"],\"factors\":[\"0\",\"1\"]}}},\"line_width\":{\"type\":\"value\",\"value\":8},\"line_dash\":{\"type\":\"value\",\"value\":\"dotted\"}}},\"nonselection_glyph\":{\"type\":\"object\",\"name\":\"MultiLine\",\"id\":\"p2898\",\"attributes\":{\"xs\":{\"type\":\"field\",\"field\":\"position_lines_xs\"},\"ys\":{\"type\":\"field\",\"field\":\"position_lines_ys\"},\"line_color\":{\"type\":\"field\",\"field\":\"returns_positive\",\"transform\":{\"id\":\"p2644\"}},\"line_alpha\":{\"type\":\"value\",\"value\":0.1},\"line_width\":{\"type\":\"value\",\"value\":8},\"line_dash\":{\"type\":\"value\",\"value\":\"dotted\"}}},\"muted_glyph\":{\"type\":\"object\",\"name\":\"MultiLine\",\"id\":\"p2899\",\"attributes\":{\"xs\":{\"type\":\"field\",\"field\":\"position_lines_xs\"},\"ys\":{\"type\":\"field\",\"field\":\"position_lines_ys\"},\"line_color\":{\"type\":\"field\",\"field\":\"returns_positive\",\"transform\":{\"id\":\"p2644\"}},\"line_alpha\":{\"type\":\"value\",\"value\":0.2},\"line_width\":{\"type\":\"value\",\"value\":8},\"line_dash\":{\"type\":\"value\",\"value\":\"dotted\"}}}}},{\"type\":\"object\",\"name\":\"GlyphRenderer\",\"id\":\"p2910\",\"attributes\":{\"data_source\":{\"id\":\"p2636\"},\"view\":{\"type\":\"object\",\"name\":\"CDSView\",\"id\":\"p2911\",\"attributes\":{\"filter\":{\"type\":\"object\",\"name\":\"AllIndices\",\"id\":\"p2912\"}}},\"glyph\":{\"type\":\"object\",\"name\":\"Line\",\"id\":\"p2907\",\"attributes\":{\"x\":{\"type\":\"field\",\"field\":\"index\"},\"y\":{\"type\":\"field\",\"field\":\"sma_indic\\u2026(20)_0_0\"},\"line_color\":\"#1f77b4\",\"line_width\":1.3}},\"nonselection_glyph\":{\"type\":\"object\",\"name\":\"Line\",\"id\":\"p2908\",\"attributes\":{\"x\":{\"type\":\"field\",\"field\":\"index\"},\"y\":{\"type\":\"field\",\"field\":\"sma_indic\\u2026(20)_0_0\"},\"line_color\":\"#1f77b4\",\"line_alpha\":0.1,\"line_width\":1.3}},\"muted_glyph\":{\"type\":\"object\",\"name\":\"Line\",\"id\":\"p2909\",\"attributes\":{\"x\":{\"type\":\"field\",\"field\":\"index\"},\"y\":{\"type\":\"field\",\"field\":\"sma_indic\\u2026(20)_0_0\"},\"line_color\":\"#1f77b4\",\"line_alpha\":0.2,\"line_width\":1.3}}}},{\"type\":\"object\",\"name\":\"GlyphRenderer\",\"id\":\"p2920\",\"attributes\":{\"data_source\":{\"id\":\"p2636\"},\"view\":{\"type\":\"object\",\"name\":\"CDSView\",\"id\":\"p2921\",\"attributes\":{\"filter\":{\"type\":\"object\",\"name\":\"AllIndices\",\"id\":\"p2922\"}}},\"glyph\":{\"type\":\"object\",\"name\":\"Line\",\"id\":\"p2917\",\"attributes\":{\"x\":{\"type\":\"field\",\"field\":\"index\"},\"y\":{\"type\":\"field\",\"field\":\"sma_indic\\u2026(50)_1_0\"},\"line_color\":\"#ff7f0e\",\"line_width\":1.3}},\"nonselection_glyph\":{\"type\":\"object\",\"name\":\"Line\",\"id\":\"p2918\",\"attributes\":{\"x\":{\"type\":\"field\",\"field\":\"index\"},\"y\":{\"type\":\"field\",\"field\":\"sma_indic\\u2026(50)_1_0\"},\"line_color\":\"#ff7f0e\",\"line_alpha\":0.1,\"line_width\":1.3}},\"muted_glyph\":{\"type\":\"object\",\"name\":\"Line\",\"id\":\"p2919\",\"attributes\":{\"x\":{\"type\":\"field\",\"field\":\"index\"},\"y\":{\"type\":\"field\",\"field\":\"sma_indic\\u2026(50)_1_0\"},\"line_color\":\"#ff7f0e\",\"line_alpha\":0.2,\"line_width\":1.3}}}}],\"toolbar\":{\"type\":\"object\",\"name\":\"Toolbar\",\"id\":\"p2608\",\"attributes\":{\"tools\":[{\"id\":\"p2621\"},{\"id\":\"p2622\"},{\"id\":\"p2623\"},{\"id\":\"p2624\"},{\"id\":\"p2632\"},{\"id\":\"p2633\"},{\"id\":\"p2634\"},{\"type\":\"object\",\"name\":\"SaveTool\",\"id\":\"p2635\"},{\"id\":\"p2973\"},{\"id\":\"p2977\"}],\"active_drag\":{\"id\":\"p2621\"},\"active_scroll\":{\"id\":\"p2622\"}}},\"toolbar_location\":null,\"left\":[{\"type\":\"object\",\"name\":\"LinearAxis\",\"id\":\"p2616\",\"attributes\":{\"ticker\":{\"type\":\"object\",\"name\":\"BasicTicker\",\"id\":\"p2617\",\"attributes\":{\"mantissas\":[1,2,5]}},\"formatter\":{\"type\":\"object\",\"name\":\"BasicTickFormatter\",\"id\":\"p2618\"},\"major_label_policy\":{\"type\":\"object\",\"name\":\"AllLabels\",\"id\":\"p2619\"}}}],\"below\":[{\"type\":\"object\",\"name\":\"LinearAxis\",\"id\":\"p2611\",\"attributes\":{\"visible\":false,\"ticker\":{\"type\":\"object\",\"name\":\"BasicTicker\",\"id\":\"p2612\",\"attributes\":{\"mantissas\":[1,2,5]}},\"formatter\":{\"type\":\"object\",\"name\":\"CustomJSTickFormatter\",\"id\":\"p2646\",\"attributes\":{\"args\":{\"type\":\"map\",\"entries\":[[\"axis\",{\"id\":\"p2611\"}],[\"formatter\",{\"type\":\"object\",\"name\":\"DatetimeTickFormatter\",\"id\":\"p2645\",\"attributes\":{\"days\":\"%a, %d %b\"}}],[\"source\",{\"id\":\"p2636\"}]]},\"code\":\"\\nthis.labels = this.labels || formatter.doFormat(ticks\\n                                                .map(i => source.data.datetime[i])\\n                                                .filter(t => t !== undefined));\\nreturn this.labels[index] || \\\"\\\";\\n        \"}},\"major_label_policy\":{\"type\":\"object\",\"name\":\"AllLabels\",\"id\":\"p2614\"}}}],\"center\":[{\"type\":\"object\",\"name\":\"Grid\",\"id\":\"p2615\",\"attributes\":{\"axis\":{\"id\":\"p2611\"}}},{\"type\":\"object\",\"name\":\"Grid\",\"id\":\"p2620\",\"attributes\":{\"dimension\":1,\"axis\":{\"id\":\"p2616\"}}},{\"type\":\"object\",\"name\":\"Legend\",\"id\":\"p2883\",\"attributes\":{\"location\":\"top_left\",\"border_line_color\":\"#333333\",\"background_fill_alpha\":0.9,\"click_policy\":\"hide\",\"label_text_font_size\":\"8pt\",\"margin\":0,\"padding\":5,\"spacing\":0,\"items\":[{\"type\":\"object\",\"name\":\"LegendItem\",\"id\":\"p2884\",\"attributes\":{\"label\":{\"type\":\"value\",\"value\":\"OHLC\"},\"renderers\":[{\"id\":\"p2880\"},{\"id\":\"p2891\"}]}},{\"type\":\"object\",\"name\":\"LegendItem\",\"id\":\"p2903\",\"attributes\":{\"label\":{\"type\":\"value\",\"value\":\"Trades (2)\"},\"renderers\":[{\"id\":\"p2900\"}]}},{\"type\":\"object\",\"name\":\"LegendItem\",\"id\":\"p2913\",\"attributes\":{\"label\":{\"type\":\"value\",\"value\":\"sma_indic\\u2026(20)\"},\"renderers\":[{\"id\":\"p2910\"}]}},{\"type\":\"object\",\"name\":\"LegendItem\",\"id\":\"p2923\",\"attributes\":{\"label\":{\"type\":\"value\",\"value\":\"sma_indic\\u2026(50)\"},\"renderers\":[{\"id\":\"p2920\"}]}}]}},{\"type\":\"object\",\"name\":\"Label\",\"id\":\"p2972\",\"attributes\":{\"text\":\"Created with Backtesting.py: http://kernc.github.io/backtesting.py\",\"text_color\":\"silver\",\"text_alpha\":0.09,\"x\":10,\"y\":15,\"x_units\":\"screen\",\"y_units\":\"screen\"}}],\"min_border_top\":3,\"min_border_bottom\":6,\"min_border_left\":0,\"min_border_right\":10}},2,0],[{\"type\":\"object\",\"name\":\"Figure\",\"id\":\"p2805\",\"attributes\":{\"width\":null,\"height\":70,\"sizing_mode\":\"stretch_width\",\"x_range\":{\"id\":\"p2599\"},\"y_range\":{\"id\":\"p2807\"},\"x_scale\":{\"type\":\"object\",\"name\":\"LinearScale\",\"id\":\"p2814\"},\"y_scale\":{\"type\":\"object\",\"name\":\"LinearScale\",\"id\":\"p2815\"},\"title\":{\"type\":\"object\",\"name\":\"Title\",\"id\":\"p2812\"},\"outline_line_color\":\"#666666\",\"renderers\":[{\"id\":\"p2847\"}],\"toolbar\":{\"type\":\"object\",\"name\":\"Toolbar\",\"id\":\"p2813\",\"attributes\":{\"tools\":[{\"id\":\"p2826\"},{\"id\":\"p2827\"},{\"id\":\"p2828\"},{\"id\":\"p2829\"},{\"id\":\"p2837\"},{\"id\":\"p2838\"},{\"id\":\"p2839\"},{\"type\":\"object\",\"name\":\"SaveTool\",\"id\":\"p2840\"},{\"id\":\"p2850\"},{\"id\":\"p2977\"}],\"active_drag\":{\"id\":\"p2826\"},\"active_scroll\":{\"id\":\"p2827\"}}},\"toolbar_location\":null,\"left\":[{\"type\":\"object\",\"name\":\"LinearAxis\",\"id\":\"p2821\",\"attributes\":{\"ticker\":{\"type\":\"object\",\"name\":\"BasicTicker\",\"id\":\"p2822\",\"attributes\":{\"desired_num_ticks\":3,\"mantissas\":[1,2,5]}},\"formatter\":{\"type\":\"object\",\"name\":\"NumeralTickFormatter\",\"id\":\"p2851\",\"attributes\":{\"format\":\"0 a\"}},\"axis_label\":\"Volume\",\"major_label_policy\":{\"type\":\"object\",\"name\":\"AllLabels\",\"id\":\"p2824\"},\"minor_tick_line_color\":null}}],\"below\":[{\"type\":\"object\",\"name\":\"LinearAxis\",\"id\":\"p2816\",\"attributes\":{\"visible\":true,\"ticker\":{\"type\":\"object\",\"name\":\"BasicTicker\",\"id\":\"p2817\",\"attributes\":{\"mantissas\":[1,2,5]}},\"formatter\":{\"id\":\"p2646\"},\"major_label_policy\":{\"type\":\"object\",\"name\":\"AllLabels\",\"id\":\"p2819\"}}}],\"center\":[{\"type\":\"object\",\"name\":\"Grid\",\"id\":\"p2820\",\"attributes\":{\"axis\":{\"id\":\"p2816\"}}},{\"type\":\"object\",\"name\":\"Grid\",\"id\":\"p2825\",\"attributes\":{\"dimension\":1,\"axis\":{\"id\":\"p2821\"}}}],\"min_border_top\":3,\"min_border_bottom\":6,\"min_border_left\":0,\"min_border_right\":10}},3,0],[{\"type\":\"object\",\"name\":\"Figure\",\"id\":\"p2924\",\"attributes\":{\"width\":null,\"height\":50,\"sizing_mode\":\"stretch_width\",\"x_range\":{\"id\":\"p2599\"},\"y_range\":{\"type\":\"object\",\"name\":\"DataRange1d\",\"id\":\"p2926\"},\"x_scale\":{\"type\":\"object\",\"name\":\"LinearScale\",\"id\":\"p2933\"},\"y_scale\":{\"type\":\"object\",\"name\":\"LinearScale\",\"id\":\"p2934\"},\"title\":{\"type\":\"object\",\"name\":\"Title\",\"id\":\"p2931\"},\"outline_line_color\":\"#666666\",\"renderers\":[{\"id\":\"p2966\"}],\"toolbar\":{\"type\":\"object\",\"name\":\"Toolbar\",\"id\":\"p2932\",\"attributes\":{\"tools\":[{\"id\":\"p2945\"},{\"id\":\"p2946\"},{\"id\":\"p2947\"},{\"id\":\"p2948\"},{\"id\":\"p2956\"},{\"id\":\"p2957\"},{\"id\":\"p2958\"},{\"type\":\"object\",\"name\":\"SaveTool\",\"id\":\"p2959\"},{\"id\":\"p2971\"},{\"id\":\"p2977\"}],\"active_drag\":{\"id\":\"p2945\"},\"active_scroll\":{\"id\":\"p2946\"}}},\"toolbar_location\":null,\"left\":[{\"type\":\"object\",\"name\":\"LinearAxis\",\"id\":\"p2940\",\"attributes\":{\"ticker\":{\"type\":\"object\",\"name\":\"BasicTicker\",\"id\":\"p2941\",\"attributes\":{\"desired_num_ticks\":3,\"mantissas\":[1,2,5]}},\"formatter\":{\"type\":\"object\",\"name\":\"BasicTickFormatter\",\"id\":\"p2942\"},\"major_label_policy\":{\"type\":\"object\",\"name\":\"AllLabels\",\"id\":\"p2943\"},\"minor_tick_line_color\":null}}],\"below\":[{\"type\":\"object\",\"name\":\"LinearAxis\",\"id\":\"p2935\",\"attributes\":{\"visible\":false,\"ticker\":{\"type\":\"object\",\"name\":\"BasicTicker\",\"id\":\"p2936\",\"attributes\":{\"mantissas\":[1,2,5]}},\"formatter\":{\"type\":\"object\",\"name\":\"BasicTickFormatter\",\"id\":\"p2937\"},\"major_label_policy\":{\"type\":\"object\",\"name\":\"AllLabels\",\"id\":\"p2938\"}}}],\"center\":[{\"type\":\"object\",\"name\":\"Grid\",\"id\":\"p2939\",\"attributes\":{\"axis\":{\"id\":\"p2935\"}}},{\"type\":\"object\",\"name\":\"Grid\",\"id\":\"p2944\",\"attributes\":{\"dimension\":1,\"axis\":{\"id\":\"p2940\"}}},{\"type\":\"object\",\"name\":\"Legend\",\"id\":\"p2969\",\"attributes\":{\"location\":\"top_left\",\"border_line_color\":\"#333333\",\"background_fill_alpha\":0.9,\"click_policy\":\"hide\",\"label_text_font_size\":\"8pt\",\"glyph_width\":0,\"margin\":0,\"padding\":5,\"spacing\":0,\"items\":[{\"type\":\"object\",\"name\":\"LegendItem\",\"id\":\"p2970\",\"attributes\":{\"label\":{\"type\":\"value\",\"value\":\"rsi(14)\"},\"renderers\":[{\"id\":\"p2966\"}]}}]}}],\"min_border_top\":3,\"min_border_bottom\":6,\"min_border_left\":0,\"min_border_right\":10}},4,0]]}}],\"callbacks\":{\"type\":\"map\",\"entries\":[[\"document_ready\",[{\"type\":\"object\",\"name\":\"CustomJS\",\"id\":\"p2598\",\"attributes\":{\"code\":\"(function() { var i = document.createElement('iframe'); i.style.display='none';i.width=i.height=1;i.loading='eager';i.src='https://kernc.github.io/backtesting.py/plx.gif.html?utm_source='+location.origin;document.body.appendChild(i);})();\"}}]]]}}};\n",
       "  const render_items = [{\"docid\":\"033ac391-1b67-4605-a20f-9fb16c59d2c6\",\"roots\":{\"p2993\":\"b0e31340-013b-4e08-88c9-38c6de53cb80\"},\"root_ids\":[\"p2993\"]}];\n",
       "  void root.Bokeh.embed.embed_items_notebook(docs_json, render_items);\n",
       "  }\n",
       "  if (root.Bokeh !== undefined) {\n",
       "    embed_document(root);\n",
       "  } else {\n",
       "    let attempts = 0;\n",
       "    const timer = setInterval(function(root) {\n",
       "      if (root.Bokeh !== undefined) {\n",
       "        clearInterval(timer);\n",
       "        embed_document(root);\n",
       "      } else {\n",
       "        attempts++;\n",
       "        if (attempts > 100) {\n",
       "          clearInterval(timer);\n",
       "          console.log(\"Bokeh: ERROR: Unable to run BokehJS code because BokehJS library is missing\");\n",
       "        }\n",
       "      }\n",
       "    }, 10, root)\n",
       "  }\n",
       "})(window);"
      ],
      "application/vnd.bokehjs_exec.v0+json": ""
     },
     "metadata": {
      "application/vnd.bokehjs_exec.v0+json": {
       "id": "p2993"
      }
     },
     "output_type": "display_data"
    },
    {
     "data": {
      "text/html": [
       "<div style=\"display: table;\"><div style=\"display: table-row;\"><div style=\"display: table-cell;\"><b title=\"bokeh.models.plots.GridPlot\">GridPlot</b>(</div><div style=\"display: table-cell;\">id&nbsp;=&nbsp;'p2993', <span id=\"p3023\" style=\"cursor: pointer;\">&hellip;)</span></div></div><div class=\"p3022\" style=\"display: none;\"><div style=\"display: table-cell;\"></div><div style=\"display: table-cell;\">align&nbsp;=&nbsp;'auto',</div></div><div class=\"p3022\" style=\"display: none;\"><div style=\"display: table-cell;\"></div><div style=\"display: table-cell;\">aspect_ratio&nbsp;=&nbsp;None,</div></div><div class=\"p3022\" style=\"display: none;\"><div style=\"display: table-cell;\"></div><div style=\"display: table-cell;\">children&nbsp;=&nbsp;[(figure(id='p2647', ...), 0, 0), (figure(id='p2747', ...), 1, 0), (figure(id='p2600', ...), 2, 0), (figure(id='p2805', ...), 3, 0), (figure(id='p2924', ...), 4, 0)],</div></div><div class=\"p3022\" style=\"display: none;\"><div style=\"display: table-cell;\"></div><div style=\"display: table-cell;\">cols&nbsp;=&nbsp;None,</div></div><div class=\"p3022\" style=\"display: none;\"><div style=\"display: table-cell;\"></div><div style=\"display: table-cell;\">context_menu&nbsp;=&nbsp;None,</div></div><div class=\"p3022\" style=\"display: none;\"><div style=\"display: table-cell;\"></div><div style=\"display: table-cell;\">css_classes&nbsp;=&nbsp;[],</div></div><div class=\"p3022\" style=\"display: none;\"><div style=\"display: table-cell;\"></div><div style=\"display: table-cell;\">css_variables&nbsp;=&nbsp;{},</div></div><div class=\"p3022\" style=\"display: none;\"><div style=\"display: table-cell;\"></div><div style=\"display: table-cell;\">disabled&nbsp;=&nbsp;False,</div></div><div class=\"p3022\" style=\"display: none;\"><div style=\"display: table-cell;\"></div><div style=\"display: table-cell;\">elements&nbsp;=&nbsp;[],</div></div><div class=\"p3022\" style=\"display: none;\"><div style=\"display: table-cell;\"></div><div style=\"display: table-cell;\">flow_mode&nbsp;=&nbsp;'block',</div></div><div class=\"p3022\" style=\"display: none;\"><div style=\"display: table-cell;\"></div><div style=\"display: table-cell;\">height&nbsp;=&nbsp;None,</div></div><div class=\"p3022\" style=\"display: none;\"><div style=\"display: table-cell;\"></div><div style=\"display: table-cell;\">height_policy&nbsp;=&nbsp;'auto',</div></div><div class=\"p3022\" style=\"display: none;\"><div style=\"display: table-cell;\"></div><div style=\"display: table-cell;\">js_event_callbacks&nbsp;=&nbsp;{},</div></div><div class=\"p3022\" style=\"display: none;\"><div style=\"display: table-cell;\"></div><div style=\"display: table-cell;\">js_property_callbacks&nbsp;=&nbsp;{},</div></div><div class=\"p3022\" style=\"display: none;\"><div style=\"display: table-cell;\"></div><div style=\"display: table-cell;\">margin&nbsp;=&nbsp;None,</div></div><div class=\"p3022\" style=\"display: none;\"><div style=\"display: table-cell;\"></div><div style=\"display: table-cell;\">max_height&nbsp;=&nbsp;None,</div></div><div class=\"p3022\" style=\"display: none;\"><div style=\"display: table-cell;\"></div><div style=\"display: table-cell;\">max_width&nbsp;=&nbsp;None,</div></div><div class=\"p3022\" style=\"display: none;\"><div style=\"display: table-cell;\"></div><div style=\"display: table-cell;\">min_height&nbsp;=&nbsp;None,</div></div><div class=\"p3022\" style=\"display: none;\"><div style=\"display: table-cell;\"></div><div style=\"display: table-cell;\">min_width&nbsp;=&nbsp;None,</div></div><div class=\"p3022\" style=\"display: none;\"><div style=\"display: table-cell;\"></div><div style=\"display: table-cell;\">name&nbsp;=&nbsp;None,</div></div><div class=\"p3022\" style=\"display: none;\"><div style=\"display: table-cell;\"></div><div style=\"display: table-cell;\">resizable&nbsp;=&nbsp;False,</div></div><div class=\"p3022\" style=\"display: none;\"><div style=\"display: table-cell;\"></div><div style=\"display: table-cell;\">rows&nbsp;=&nbsp;None,</div></div><div class=\"p3022\" style=\"display: none;\"><div style=\"display: table-cell;\"></div><div style=\"display: table-cell;\">sizing_mode&nbsp;=&nbsp;'stretch_width',</div></div><div class=\"p3022\" style=\"display: none;\"><div style=\"display: table-cell;\"></div><div style=\"display: table-cell;\">spacing&nbsp;=&nbsp;0,</div></div><div class=\"p3022\" style=\"display: none;\"><div style=\"display: table-cell;\"></div><div style=\"display: table-cell;\">styles&nbsp;=&nbsp;{},</div></div><div class=\"p3022\" style=\"display: none;\"><div style=\"display: table-cell;\"></div><div style=\"display: table-cell;\">stylesheets&nbsp;=&nbsp;[],</div></div><div class=\"p3022\" style=\"display: none;\"><div style=\"display: table-cell;\"></div><div style=\"display: table-cell;\">subscribed_events&nbsp;=&nbsp;PropertyValueSet(),</div></div><div class=\"p3022\" style=\"display: none;\"><div style=\"display: table-cell;\"></div><div style=\"display: table-cell;\">syncable&nbsp;=&nbsp;True,</div></div><div class=\"p3022\" style=\"display: none;\"><div style=\"display: table-cell;\"></div><div style=\"display: table-cell;\">tags&nbsp;=&nbsp;[],</div></div><div class=\"p3022\" style=\"display: none;\"><div style=\"display: table-cell;\"></div><div style=\"display: table-cell;\">toolbar&nbsp;=&nbsp;Toolbar(id='p2992', ...),</div></div><div class=\"p3022\" style=\"display: none;\"><div style=\"display: table-cell;\"></div><div style=\"display: table-cell;\">toolbar_location&nbsp;=&nbsp;'right',</div></div><div class=\"p3022\" style=\"display: none;\"><div style=\"display: table-cell;\"></div><div style=\"display: table-cell;\">visible&nbsp;=&nbsp;True,</div></div><div class=\"p3022\" style=\"display: none;\"><div style=\"display: table-cell;\"></div><div style=\"display: table-cell;\">width&nbsp;=&nbsp;None,</div></div><div class=\"p3022\" style=\"display: none;\"><div style=\"display: table-cell;\"></div><div style=\"display: table-cell;\">width_policy&nbsp;=&nbsp;'auto')</div></div></div>\n",
       "<script>\n",
       "(function() {\n",
       "  let expanded = false;\n",
       "  const ellipsis = document.getElementById(\"p3023\");\n",
       "  ellipsis.addEventListener(\"click\", function() {\n",
       "    const rows = document.getElementsByClassName(\"p3022\");\n",
       "    for (let i = 0; i < rows.length; i++) {\n",
       "      const el = rows[i];\n",
       "      el.style.display = expanded ? \"none\" : \"table-row\";\n",
       "    }\n",
       "    ellipsis.innerHTML = expanded ? \"&hellip;)\" : \"&lsaquo;&lsaquo;&lsaquo;\";\n",
       "    expanded = !expanded;\n",
       "  });\n",
       "})();\n",
       "</script>\n"
      ],
      "text/plain": [
       "GridPlot(id='p2993', ...)"
      ]
     },
     "execution_count": 75,
     "metadata": {},
     "output_type": "execute_result"
    }
   ],
   "source": [
    "bt.run()\n",
    "bt.plot()"
   ]
  },
  {
   "cell_type": "code",
   "execution_count": 74,
   "id": "83353069-8430-4f40-bb04-7560a199f7a1",
   "metadata": {},
   "outputs": [
    {
     "data": {
      "application/vnd.jupyter.widget-view+json": {
       "model_id": "22db46f19ee14f5c81cfeaf445a26795",
       "version_major": 2,
       "version_minor": 0
      },
      "text/plain": [
       "Backtest.run:   0%|          | 0/155 [00:00<?, ?bar/s]"
      ]
     },
     "metadata": {},
     "output_type": "display_data"
    },
    {
     "data": {
      "text/plain": [
       "Start                     2024-09-02 00:00:00\n",
       "End                       2025-06-27 00:00:00\n",
       "Duration                    298 days 00:00:00\n",
       "Exposure Time [%]                    43.90244\n",
       "Equity Final [$]                 100593.68942\n",
       "Equity Peak [$]                  109022.80263\n",
       "Commissions [$]                     805.28824\n",
       "Return [%]                            0.59369\n",
       "Buy & Hold Return [%]                 -6.4186\n",
       "Return (Ann.) [%]                      0.7303\n",
       "Volatility (Ann.) [%]                12.55779\n",
       "CAGR [%]                              0.50182\n",
       "Sharpe Ratio                          0.05816\n",
       "Sortino Ratio                         0.08811\n",
       "Calmar Ratio                          0.06425\n",
       "Alpha [%]                            -1.80587\n",
       "Beta                                 -0.37385\n",
       "Max. Drawdown [%]                   -11.36718\n",
       "Avg. Drawdown [%]                    -4.42373\n",
       "Max. Drawdown Duration      115 days 00:00:00\n",
       "Avg. Drawdown Duration       43 days 00:00:00\n",
       "# Trades                                    2\n",
       "Win Rate [%]                             50.0\n",
       "Best Trade [%]                        6.30253\n",
       "Worst Trade [%]                      -3.47141\n",
       "Avg. Trade [%]                        1.29774\n",
       "Max. Trade Duration         119 days 00:00:00\n",
       "Avg. Trade Duration          68 days 00:00:00\n",
       "Profit Factor                         1.81555\n",
       "Expectancy [%]                        1.41556\n",
       "SQN                                   0.26781\n",
       "Kelly Criterion                       0.21124\n",
       "_strategy                    SMA_RSI_Strategy\n",
       "_equity_curve                             ...\n",
       "_trades                      Size  EntryBa...\n",
       "dtype: object"
      ]
     },
     "execution_count": 74,
     "metadata": {},
     "output_type": "execute_result"
    }
   ],
   "source": [
    "results = bt.run()\n",
    "results"
   ]
  },
  {
   "cell_type": "code",
   "execution_count": 53,
   "id": "487090b1-b110-4836-9658-8269f6ce114f",
   "metadata": {},
   "outputs": [
    {
     "name": "stdout",
     "output_type": "stream",
     "text": [
      "Requirement already satisfied: gspread in d:\\program files\\lib\\site-packages (6.2.1)\n",
      "Requirement already satisfied: google-auth>=1.12.0 in d:\\program files\\lib\\site-packages (from gspread) (2.40.3)\n",
      "Requirement already satisfied: google-auth-oauthlib>=0.4.1 in d:\\program files\\lib\\site-packages (from gspread) (1.2.2)\n",
      "Requirement already satisfied: cachetools<6.0,>=2.0.0 in d:\\program files\\lib\\site-packages (from google-auth>=1.12.0->gspread) (5.5.1)\n",
      "Requirement already satisfied: pyasn1-modules>=0.2.1 in d:\\program files\\lib\\site-packages (from google-auth>=1.12.0->gspread) (0.2.8)\n",
      "Requirement already satisfied: rsa<5,>=3.1.4 in d:\\program files\\lib\\site-packages (from google-auth>=1.12.0->gspread) (4.9.1)\n",
      "Requirement already satisfied: pyasn1>=0.1.3 in d:\\program files\\lib\\site-packages (from rsa<5,>=3.1.4->google-auth>=1.12.0->gspread) (0.4.8)\n",
      "Requirement already satisfied: requests-oauthlib>=0.7.0 in d:\\program files\\lib\\site-packages (from google-auth-oauthlib>=0.4.1->gspread) (2.0.0)\n",
      "Requirement already satisfied: oauthlib>=3.0.0 in d:\\program files\\lib\\site-packages (from requests-oauthlib>=0.7.0->google-auth-oauthlib>=0.4.1->gspread) (3.3.1)\n",
      "Requirement already satisfied: requests>=2.0.0 in d:\\program files\\lib\\site-packages (from requests-oauthlib>=0.7.0->google-auth-oauthlib>=0.4.1->gspread) (2.32.3)\n",
      "Requirement already satisfied: charset-normalizer<4,>=2 in d:\\program files\\lib\\site-packages (from requests>=2.0.0->requests-oauthlib>=0.7.0->google-auth-oauthlib>=0.4.1->gspread) (3.3.2)\n",
      "Requirement already satisfied: idna<4,>=2.5 in d:\\program files\\lib\\site-packages (from requests>=2.0.0->requests-oauthlib>=0.7.0->google-auth-oauthlib>=0.4.1->gspread) (3.7)\n",
      "Requirement already satisfied: urllib3<3,>=1.21.1 in d:\\program files\\lib\\site-packages (from requests>=2.0.0->requests-oauthlib>=0.7.0->google-auth-oauthlib>=0.4.1->gspread) (2.3.0)\n",
      "Requirement already satisfied: certifi>=2017.4.17 in d:\\program files\\lib\\site-packages (from requests>=2.0.0->requests-oauthlib>=0.7.0->google-auth-oauthlib>=0.4.1->gspread) (2025.4.26)\n"
     ]
    }
   ],
   "source": [
    "!pip install gspread"
   ]
  },
  {
   "cell_type": "code",
   "execution_count": 54,
   "id": "e30a99e3-5cca-437f-a094-21f5f85a0a76",
   "metadata": {},
   "outputs": [
    {
     "name": "stdout",
     "output_type": "stream",
     "text": [
      "Requirement already satisfied: oauth2client in d:\\program files\\lib\\site-packages (4.1.3)\n",
      "Requirement already satisfied: httplib2>=0.9.1 in d:\\program files\\lib\\site-packages (from oauth2client) (0.22.0)\n",
      "Requirement already satisfied: pyasn1>=0.1.7 in d:\\program files\\lib\\site-packages (from oauth2client) (0.4.8)\n",
      "Requirement already satisfied: pyasn1-modules>=0.0.5 in d:\\program files\\lib\\site-packages (from oauth2client) (0.2.8)\n",
      "Requirement already satisfied: rsa>=3.1.4 in d:\\program files\\lib\\site-packages (from oauth2client) (4.9.1)\n",
      "Requirement already satisfied: six>=1.6.1 in d:\\program files\\lib\\site-packages (from oauth2client) (1.17.0)\n",
      "Requirement already satisfied: pyparsing!=3.0.0,!=3.0.1,!=3.0.2,!=3.0.3,<4,>=2.4.2 in d:\\program files\\lib\\site-packages (from httplib2>=0.9.1->oauth2client) (3.2.0)\n"
     ]
    }
   ],
   "source": [
    "!pip install oauth2client"
   ]
  },
  {
   "cell_type": "code",
   "execution_count": 71,
   "id": "276e1a55-8b61-4b09-80ba-6c00485ddf87",
   "metadata": {},
   "outputs": [],
   "source": [
    "def get_or_create_tab(sheet, title, rows=1000, cols=20):\n",
    "    try:\n",
    "        return sheet.worksheet(title)\n",
    "    except gspread.exceptions.WorksheetNotFound:\n",
    "        return sheet.add_worksheet(title=title, rows=rows, cols=cols)"
   ]
  },
  {
   "cell_type": "code",
   "execution_count": 72,
   "id": "0fecf0c9-1672-4857-bcc0-1088c9b615c5",
   "metadata": {},
   "outputs": [
    {
     "data": {
      "application/vnd.jupyter.widget-view+json": {
       "model_id": "c9ce9f0e55094920bae33bf952f1f6ee",
       "version_major": 2,
       "version_minor": 0
      },
      "text/plain": [
       "Backtest.run:   0%|          | 0/155 [00:00<?, ?bar/s]"
      ]
     },
     "metadata": {},
     "output_type": "display_data"
    },
    {
     "data": {
      "text/plain": [
       "{'spreadsheetId': '1DgTrz-2B-KYyrP7Nm__yUFmv6NbF3ShOyeGToz3rSTU',\n",
       " 'updates': {'spreadsheetId': '1DgTrz-2B-KYyrP7Nm__yUFmv6NbF3ShOyeGToz3rSTU',\n",
       "  'updatedRange': 'WinRatio!A1:B1',\n",
       "  'updatedRows': 1,\n",
       "  'updatedColumns': 2,\n",
       "  'updatedCells': 2}}"
      ]
     },
     "execution_count": 72,
     "metadata": {},
     "output_type": "execute_result"
    }
   ],
   "source": [
    "import gspread\n",
    "import math\n",
    "from oauth2client.service_account import ServiceAccountCredentials\n",
    "\n",
    "# Setup Sheets API\n",
    "scope = [\"https://spreadsheets.google.com/feeds\", \"https://www.googleapis.com/auth/drive\"]\n",
    "creds = ServiceAccountCredentials.from_json_keyfile_name(\"glassy-compiler-464222-d7-6e19d9525e88.json\", scope)\n",
    "client = gspread.authorize(creds)\n",
    "\n",
    "# Open your Google Sheet\n",
    "sheet = client.open(\"Trading Logs\")\n",
    "\n",
    "summary = bt.run()\n",
    "summary_ws = get_or_create_tab(sheet, \"Summary\")\n",
    "summary_ws.clear()\n",
    "summary_ws.append_row([\"Metric\", \"Value\"])\n",
    "for key, value in summary.items():\n",
    "    summary_ws.append_row([str(key), str(value)])\n",
    "\n",
    "# Tab 2: Trade Log\n",
    "log_ws = get_or_create_tab(sheet, \"Trades\")\n",
    "log_ws.clear()\n",
    "\n",
    "trade_df = summary[\"_trades\"]\n",
    "log_ws.append_row(trade_df.columns.tolist())  # Header row\n",
    "\n",
    "for row in trade_df.itertuples(index=False):\n",
    "    # Convert all entries to strings for compatibility\n",
    "    log_ws.append_row([str(x) for x in row])\n",
    "\n",
    "# Tab 3: Win Ratio\n",
    "win_ws = get_or_create_tab(sheet, \"WinRatio\")\n",
    "win_ws.clear()\n",
    "\n",
    "trades_df = summary[\"_trades\"]\n",
    "win_ratio = (trades_df[\"ReturnPct\"] > 0).mean() * 100\n",
    "\n",
    "# Check if win_ratio is NaN (which can happen if no trades)\n",
    "if math.isnan(win_ratio):\n",
    "    win_ratio = 0.0\n",
    "\n",
    "win_ws.append_row([\"Win Ratio (%)\", round(win_ratio, 2)])"
   ]
  },
  {
   "cell_type": "code",
   "execution_count": 73,
   "id": "173998b3-9b08-40d3-bffe-85292f1d8d7a",
   "metadata": {},
   "outputs": [
    {
     "name": "stdout",
     "output_type": "stream",
     "text": [
      "Trades:\n",
      "    Size  EntryBar  ExitBar   EntryPrice    ExitPrice    SL    TP          PnL  \\\n",
      "0   -42       111      122  2355.232079  2206.792985  None  None  6234.441980   \n",
      "1   -47       122      200  2206.792985  2283.399902  None  None -3600.525129   \n",
      "\n",
      "   ReturnPct  EntryTime   ExitTime Duration   Tag  Entry_sma_indic…(20)  \\\n",
      "0   0.063025 2025-02-07 2025-02-24  17 days  None           2360.934509   \n",
      "1  -0.034714 2025-02-24 2025-06-23 119 days  None           2327.085474   \n",
      "\n",
      "   Exit_sma_indic…(20)  Entry_sma_indic…(50)  Exit_sma_indic…(50)  \\\n",
      "0          2327.085474           2364.150200          2335.460889   \n",
      "1          2324.605286           2335.460889          2329.949346   \n",
      "\n",
      "   Entry_rsi(14)  Exit_rsi(14)  \n",
      "0      44.797357     31.238503  \n",
      "1      31.238503     40.016539  \n",
      "Win Ratio: 50.0\n"
     ]
    }
   ],
   "source": [
    "\n",
    "print(\"Trades:\\n\", summary[\"_trades\"].head())\n",
    "print(\"Win Ratio:\", win_ratio)"
   ]
  },
  {
   "cell_type": "code",
   "execution_count": null,
   "id": "6e37eafb-4da8-4194-892c-1ccfa3e29f0b",
   "metadata": {},
   "outputs": [],
   "source": []
  }
 ],
 "metadata": {
  "kernelspec": {
   "display_name": "Python [conda env:base] *",
   "language": "python",
   "name": "conda-base-py"
  },
  "language_info": {
   "codemirror_mode": {
    "name": "ipython",
    "version": 3
   },
   "file_extension": ".py",
   "mimetype": "text/x-python",
   "name": "python",
   "nbconvert_exporter": "python",
   "pygments_lexer": "ipython3",
   "version": "3.13.5"
  }
 },
 "nbformat": 4,
 "nbformat_minor": 5
}
